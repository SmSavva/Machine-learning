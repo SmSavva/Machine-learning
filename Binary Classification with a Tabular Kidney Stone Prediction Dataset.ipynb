{
 "cells": [
  {
   "cell_type": "code",
   "execution_count": 1,
   "id": "71027ca2",
   "metadata": {
    "_cell_guid": "b1076dfc-b9ad-4769-8c92-a6c4dae69d19",
    "_uuid": "8f2839f25d086af736a60e9eeb907d3b93b6e0e5",
    "execution": {
     "iopub.execute_input": "2023-04-11T11:36:14.708060Z",
     "iopub.status.busy": "2023-04-11T11:36:14.707663Z",
     "iopub.status.idle": "2023-04-11T11:36:26.533925Z",
     "shell.execute_reply": "2023-04-11T11:36:26.532548Z"
    },
    "papermill": {
     "duration": 11.840916,
     "end_time": "2023-04-11T11:36:26.537080",
     "exception": false,
     "start_time": "2023-04-11T11:36:14.696164",
     "status": "completed"
    },
    "tags": []
   },
   "outputs": [],
   "source": [
    "# This Python 3 environment comes with many helpful analytics libraries installed\n",
    "# It is defined by the kaggle/python Docker image: https://github.com/kaggle/docker-python\n",
    "# For example, here's several helpful packages to load\n",
    "\n",
    "import numpy as np # linear algebra\n",
    "import pandas as pd # data processing, CSV file I/O (e.g. pd.read_csv)\n",
    "\n",
    "import seaborn as sns\n",
    "import matplotlib.pyplot as plt\n",
    "\n",
    "from sklearn.model_selection import train_test_split, GridSearchCV\n",
    "from sklearn.preprocessing import MinMaxScaler, StandardScaler, Normalizer\n",
    "from sklearn.metrics import roc_auc_score, confusion_matrix\n",
    "from sklearn.ensemble import RandomForestRegressor, RandomForestClassifier, AdaBoostClassifier\n",
    "from sklearn.pipeline import make_pipeline\n",
    "\n",
    "from keras.layers import Dense, Dropout\n",
    "from keras.models import Sequential\n",
    "from keras.metrics import AUC\n",
    "\n",
    "# You can write up to 20GB to the current directory (/kaggle/working/) that gets preserved as output when you create a version using \"Save & Run All\" \n",
    "# You can also write temporary files to /kaggle/temp/, but they won't be saved outside of the current session"
   ]
  },
  {
   "cell_type": "code",
   "execution_count": 2,
   "id": "f10a6760",
   "metadata": {
    "execution": {
     "iopub.execute_input": "2023-04-11T11:36:26.556764Z",
     "iopub.status.busy": "2023-04-11T11:36:26.555397Z",
     "iopub.status.idle": "2023-04-11T11:36:26.614818Z",
     "shell.execute_reply": "2023-04-11T11:36:26.612931Z"
    },
    "papermill": {
     "duration": 0.072491,
     "end_time": "2023-04-11T11:36:26.618140",
     "exception": false,
     "start_time": "2023-04-11T11:36:26.545649",
     "status": "completed"
    },
    "tags": []
   },
   "outputs": [
    {
     "name": "stdout",
     "output_type": "stream",
     "text": [
      "(414, 7)\n"
     ]
    },
    {
     "data": {
      "text/html": [
       "<div>\n",
       "<style scoped>\n",
       "    .dataframe tbody tr th:only-of-type {\n",
       "        vertical-align: middle;\n",
       "    }\n",
       "\n",
       "    .dataframe tbody tr th {\n",
       "        vertical-align: top;\n",
       "    }\n",
       "\n",
       "    .dataframe thead th {\n",
       "        text-align: right;\n",
       "    }\n",
       "</style>\n",
       "<table border=\"1\" class=\"dataframe\">\n",
       "  <thead>\n",
       "    <tr style=\"text-align: right;\">\n",
       "      <th></th>\n",
       "      <th>gravity</th>\n",
       "      <th>ph</th>\n",
       "      <th>osmo</th>\n",
       "      <th>cond</th>\n",
       "      <th>urea</th>\n",
       "      <th>calc</th>\n",
       "      <th>target</th>\n",
       "    </tr>\n",
       "    <tr>\n",
       "      <th>id</th>\n",
       "      <th></th>\n",
       "      <th></th>\n",
       "      <th></th>\n",
       "      <th></th>\n",
       "      <th></th>\n",
       "      <th></th>\n",
       "      <th></th>\n",
       "    </tr>\n",
       "  </thead>\n",
       "  <tbody>\n",
       "    <tr>\n",
       "      <th>0</th>\n",
       "      <td>1.013</td>\n",
       "      <td>6.19</td>\n",
       "      <td>443</td>\n",
       "      <td>14.8</td>\n",
       "      <td>124</td>\n",
       "      <td>1.45</td>\n",
       "      <td>0</td>\n",
       "    </tr>\n",
       "    <tr>\n",
       "      <th>1</th>\n",
       "      <td>1.025</td>\n",
       "      <td>5.40</td>\n",
       "      <td>703</td>\n",
       "      <td>23.6</td>\n",
       "      <td>394</td>\n",
       "      <td>4.18</td>\n",
       "      <td>0</td>\n",
       "    </tr>\n",
       "    <tr>\n",
       "      <th>2</th>\n",
       "      <td>1.009</td>\n",
       "      <td>6.13</td>\n",
       "      <td>371</td>\n",
       "      <td>24.5</td>\n",
       "      <td>159</td>\n",
       "      <td>9.04</td>\n",
       "      <td>0</td>\n",
       "    </tr>\n",
       "    <tr>\n",
       "      <th>3</th>\n",
       "      <td>1.021</td>\n",
       "      <td>4.91</td>\n",
       "      <td>442</td>\n",
       "      <td>20.8</td>\n",
       "      <td>398</td>\n",
       "      <td>6.63</td>\n",
       "      <td>1</td>\n",
       "    </tr>\n",
       "    <tr>\n",
       "      <th>4</th>\n",
       "      <td>1.021</td>\n",
       "      <td>5.53</td>\n",
       "      <td>874</td>\n",
       "      <td>17.8</td>\n",
       "      <td>385</td>\n",
       "      <td>2.21</td>\n",
       "      <td>1</td>\n",
       "    </tr>\n",
       "  </tbody>\n",
       "</table>\n",
       "</div>"
      ],
      "text/plain": [
       "    gravity    ph  osmo  cond  urea  calc  target\n",
       "id                                               \n",
       "0     1.013  6.19   443  14.8   124  1.45       0\n",
       "1     1.025  5.40   703  23.6   394  4.18       0\n",
       "2     1.009  6.13   371  24.5   159  9.04       0\n",
       "3     1.021  4.91   442  20.8   398  6.63       1\n",
       "4     1.021  5.53   874  17.8   385  2.21       1"
      ]
     },
     "execution_count": 2,
     "metadata": {},
     "output_type": "execute_result"
    }
   ],
   "source": [
    "train = pd.read_csv('/kaggle/input/playground-series-s3e12/train.csv', index_col='id')\n",
    "print(train.shape)\n",
    "train.head()"
   ]
  },
  {
   "cell_type": "code",
   "execution_count": 3,
   "id": "74c4aa1c",
   "metadata": {
    "execution": {
     "iopub.execute_input": "2023-04-11T11:36:26.638330Z",
     "iopub.status.busy": "2023-04-11T11:36:26.637872Z",
     "iopub.status.idle": "2023-04-11T11:36:27.367780Z",
     "shell.execute_reply": "2023-04-11T11:36:27.366290Z"
    },
    "papermill": {
     "duration": 0.74346,
     "end_time": "2023-04-11T11:36:27.370698",
     "exception": false,
     "start_time": "2023-04-11T11:36:26.627238",
     "status": "completed"
    },
    "tags": []
   },
   "outputs": [
    {
     "data": {
      "image/png": "[encoded data removed]",
      "text/plain": [
       "<Figure size 640x480 with 2 Axes>"
      ]
     },
     "metadata": {},
     "output_type": "display_data"
    }
   ],
   "source": [
    "corr_ = train.corr()\n",
    "sns.heatmap(corr_, xticklabels=corr_.columns, yticklabels=corr_.columns, annot=True, vmin=-1, vmax=1)\n",
    "plt.show()"
   ]
  },
  {
   "cell_type": "code",
   "execution_count": 4,
   "id": "93c96d30",
   "metadata": {
    "execution": {
     "iopub.execute_input": "2023-04-11T11:36:27.392025Z",
     "iopub.status.busy": "2023-04-11T11:36:27.391578Z",
     "iopub.status.idle": "2023-04-11T11:36:27.403347Z",
     "shell.execute_reply": "2023-04-11T11:36:27.401917Z"
    },
    "papermill": {
     "duration": 0.025678,
     "end_time": "2023-04-11T11:36:27.406080",
     "exception": false,
     "start_time": "2023-04-11T11:36:27.380402",
     "status": "completed"
    },
    "tags": []
   },
   "outputs": [],
   "source": [
    "X = train.drop('target', axis=1)\n",
    "y = train.target"
   ]
  },
  {
   "cell_type": "code",
   "execution_count": 5,
   "id": "e83a87b8",
   "metadata": {
    "execution": {
     "iopub.execute_input": "2023-04-11T11:36:27.426771Z",
     "iopub.status.busy": "2023-04-11T11:36:27.426278Z",
     "iopub.status.idle": "2023-04-11T11:36:27.438065Z",
     "shell.execute_reply": "2023-04-11T11:36:27.436597Z"
    },
    "papermill": {
     "duration": 0.025308,
     "end_time": "2023-04-11T11:36:27.440810",
     "exception": false,
     "start_time": "2023-04-11T11:36:27.415502",
     "status": "completed"
    },
    "tags": []
   },
   "outputs": [
    {
     "data": {
      "text/plain": [
       "id\n",
       "0      1.013\n",
       "1      1.025\n",
       "2      1.009\n",
       "3      1.021\n",
       "4      1.021\n",
       "       ...  \n",
       "409    1.011\n",
       "410    1.024\n",
       "411    1.018\n",
       "412    1.008\n",
       "413    1.011\n",
       "Name: gravity, Length: 414, dtype: float64"
      ]
     },
     "execution_count": 5,
     "metadata": {},
     "output_type": "execute_result"
    }
   ],
   "source": [
    "X.iloc[:,0]"
   ]
  },
  {
   "cell_type": "code",
   "execution_count": 6,
   "id": "1f7ee49f",
   "metadata": {
    "execution": {
     "iopub.execute_input": "2023-04-11T11:36:27.462920Z",
     "iopub.status.busy": "2023-04-11T11:36:27.462436Z",
     "iopub.status.idle": "2023-04-11T11:36:28.376085Z",
     "shell.execute_reply": "2023-04-11T11:36:28.374842Z"
    },
    "papermill": {
     "duration": 0.928319,
     "end_time": "2023-04-11T11:36:28.378965",
     "exception": false,
     "start_time": "2023-04-11T11:36:27.450646",
     "status": "completed"
    },
    "tags": []
   },
   "outputs": [
    {
     "data": {
      "image/png": "[encoded data removed]",
      "text/plain": [
       "<Figure size 1500x500 with 6 Axes>"
      ]
     },
     "metadata": {},
     "output_type": "display_data"
    }
   ],
   "source": [
    "fig, ax = plt.subplots(1,6, figsize=(15,5))\n",
    "\n",
    "for i in range(6):\n",
    "    sns.boxplot(ax=ax[i], y=X.iloc[:,i])\n",
    "    ax[i].set_title(X.columns[i])\n",
    "    \n",
    "fig.tight_layout()\n",
    "fig.show()"
   ]
  },
  {
   "cell_type": "code",
   "execution_count": 7,
   "id": "fabe6a2d",
   "metadata": {
    "execution": {
     "iopub.execute_input": "2023-04-11T11:36:28.402229Z",
     "iopub.status.busy": "2023-04-11T11:36:28.401799Z",
     "iopub.status.idle": "2023-04-11T11:36:28.410920Z",
     "shell.execute_reply": "2023-04-11T11:36:28.409662Z"
    },
    "papermill": {
     "duration": 0.023886,
     "end_time": "2023-04-11T11:36:28.413539",
     "exception": false,
     "start_time": "2023-04-11T11:36:28.389653",
     "status": "completed"
    },
    "tags": []
   },
   "outputs": [],
   "source": [
    "qG = np.quantile(X.gravity, 0.99)\n",
    "qPH = np.quantile(X.ph, 0.96)\n",
    "\n",
    "X.loc[X.gravity > qG, 'gravity'] = qG\n",
    "X.loc[X.ph > qPH, 'ph'] = qPH"
   ]
  },
  {
   "cell_type": "code",
   "execution_count": 8,
   "id": "e6ba6758",
   "metadata": {
    "execution": {
     "iopub.execute_input": "2023-04-11T11:36:28.437601Z",
     "iopub.status.busy": "2023-04-11T11:36:28.437170Z",
     "iopub.status.idle": "2023-04-11T11:36:28.452391Z",
     "shell.execute_reply": "2023-04-11T11:36:28.451049Z"
    },
    "papermill": {
     "duration": 0.03023,
     "end_time": "2023-04-11T11:36:28.455431",
     "exception": false,
     "start_time": "2023-04-11T11:36:28.425201",
     "status": "completed"
    },
    "tags": []
   },
   "outputs": [
    {
     "data": {
      "text/html": [
       "<div>\n",
       "<style scoped>\n",
       "    .dataframe tbody tr th:only-of-type {\n",
       "        vertical-align: middle;\n",
       "    }\n",
       "\n",
       "    .dataframe tbody tr th {\n",
       "        vertical-align: top;\n",
       "    }\n",
       "\n",
       "    .dataframe thead th {\n",
       "        text-align: right;\n",
       "    }\n",
       "</style>\n",
       "<table border=\"1\" class=\"dataframe\">\n",
       "  <thead>\n",
       "    <tr style=\"text-align: right;\">\n",
       "      <th></th>\n",
       "      <th>gravity</th>\n",
       "      <th>ph</th>\n",
       "      <th>osmo</th>\n",
       "      <th>cond</th>\n",
       "      <th>urea</th>\n",
       "      <th>calc</th>\n",
       "    </tr>\n",
       "    <tr>\n",
       "      <th>id</th>\n",
       "      <th></th>\n",
       "      <th></th>\n",
       "      <th></th>\n",
       "      <th></th>\n",
       "      <th></th>\n",
       "      <th></th>\n",
       "    </tr>\n",
       "  </thead>\n",
       "  <tbody>\n",
       "    <tr>\n",
       "      <th>0</th>\n",
       "      <td>1.013</td>\n",
       "      <td>6.19</td>\n",
       "      <td>443</td>\n",
       "      <td>14.8</td>\n",
       "      <td>124</td>\n",
       "      <td>1.45</td>\n",
       "    </tr>\n",
       "    <tr>\n",
       "      <th>1</th>\n",
       "      <td>1.025</td>\n",
       "      <td>5.40</td>\n",
       "      <td>703</td>\n",
       "      <td>23.6</td>\n",
       "      <td>394</td>\n",
       "      <td>4.18</td>\n",
       "    </tr>\n",
       "    <tr>\n",
       "      <th>2</th>\n",
       "      <td>1.009</td>\n",
       "      <td>6.13</td>\n",
       "      <td>371</td>\n",
       "      <td>24.5</td>\n",
       "      <td>159</td>\n",
       "      <td>9.04</td>\n",
       "    </tr>\n",
       "    <tr>\n",
       "      <th>3</th>\n",
       "      <td>1.021</td>\n",
       "      <td>4.91</td>\n",
       "      <td>442</td>\n",
       "      <td>20.8</td>\n",
       "      <td>398</td>\n",
       "      <td>6.63</td>\n",
       "    </tr>\n",
       "    <tr>\n",
       "      <th>4</th>\n",
       "      <td>1.021</td>\n",
       "      <td>5.53</td>\n",
       "      <td>874</td>\n",
       "      <td>17.8</td>\n",
       "      <td>385</td>\n",
       "      <td>2.21</td>\n",
       "    </tr>\n",
       "  </tbody>\n",
       "</table>\n",
       "</div>"
      ],
      "text/plain": [
       "    gravity    ph  osmo  cond  urea  calc\n",
       "id                                       \n",
       "0     1.013  6.19   443  14.8   124  1.45\n",
       "1     1.025  5.40   703  23.6   394  4.18\n",
       "2     1.009  6.13   371  24.5   159  9.04\n",
       "3     1.021  4.91   442  20.8   398  6.63\n",
       "4     1.021  5.53   874  17.8   385  2.21"
      ]
     },
     "execution_count": 8,
     "metadata": {},
     "output_type": "execute_result"
    }
   ],
   "source": [
    "X.head()"
   ]
  },
  {
   "cell_type": "code",
   "execution_count": 9,
   "id": "5cfc0bb2",
   "metadata": {
    "execution": {
     "iopub.execute_input": "2023-04-11T11:36:28.478915Z",
     "iopub.status.busy": "2023-04-11T11:36:28.478474Z",
     "iopub.status.idle": "2023-04-11T11:36:28.667389Z",
     "shell.execute_reply": "2023-04-11T11:36:28.666117Z"
    },
    "papermill": {
     "duration": 0.204286,
     "end_time": "2023-04-11T11:36:28.670431",
     "exception": false,
     "start_time": "2023-04-11T11:36:28.466145",
     "status": "completed"
    },
    "tags": []
   },
   "outputs": [
    {
     "data": {
      "image/png": "[encoded data removed]",
      "text/plain": [
       "<Figure size 640x480 with 1 Axes>"
      ]
     },
     "metadata": {},
     "output_type": "display_data"
    }
   ],
   "source": [
    "sns.countplot(x=y)\n",
    "plt.show()"
   ]
  },
  {
   "cell_type": "markdown",
   "id": "ae4cc69f",
   "metadata": {
    "papermill": {
     "duration": 0.011558,
     "end_time": "2023-04-11T11:36:28.693398",
     "exception": false,
     "start_time": "2023-04-11T11:36:28.681840",
     "status": "completed"
    },
    "tags": []
   },
   "source": [
    "# Neural Network"
   ]
  },
  {
   "cell_type": "code",
   "execution_count": 10,
   "id": "f549a488",
   "metadata": {
    "execution": {
     "iopub.execute_input": "2023-04-11T11:36:28.718113Z",
     "iopub.status.busy": "2023-04-11T11:36:28.717699Z",
     "iopub.status.idle": "2023-04-11T11:36:28.725750Z",
     "shell.execute_reply": "2023-04-11T11:36:28.724282Z"
    },
    "papermill": {
     "duration": 0.023718,
     "end_time": "2023-04-11T11:36:28.728373",
     "exception": false,
     "start_time": "2023-04-11T11:36:28.704655",
     "status": "completed"
    },
    "tags": []
   },
   "outputs": [],
   "source": [
    "def get_model(X_train, Y_train):\n",
    "    model = Sequential(layers=[\n",
    "        Dense(x_train.shape[1], input_dim=x_train.shape[1], activation='relu'),\n",
    "#         Dense(64, activation='relu'),\n",
    "        Dense(32, activation='relu'),\n",
    "        Dropout(0.25),\n",
    "        Dense(16, activation='relu'),\n",
    "        Dense(1, activation='sigmoid')\n",
    "    ])\n",
    "    model.compile(optimizer='nadam', loss='binary_crossentropy', metrics=[AUC()])\n",
    "    model.fit(X_train, Y_train, validation_data=(x_val, y_val), epochs=50, verbose=False)\n",
    "    return model"
   ]
  },
  {
   "cell_type": "markdown",
   "id": "ccd6f3ef",
   "metadata": {
    "papermill": {
     "duration": 0.010831,
     "end_time": "2023-04-11T11:36:28.750176",
     "exception": false,
     "start_time": "2023-04-11T11:36:28.739345",
     "status": "completed"
    },
    "tags": []
   },
   "source": [
    "1. StandardScaler"
   ]
  },
  {
   "cell_type": "code",
   "execution_count": 11,
   "id": "9d767638",
   "metadata": {
    "execution": {
     "iopub.execute_input": "2023-04-11T11:36:28.775005Z",
     "iopub.status.busy": "2023-04-11T11:36:28.773570Z",
     "iopub.status.idle": "2023-04-11T11:36:28.780027Z",
     "shell.execute_reply": "2023-04-11T11:36:28.778998Z"
    },
    "papermill": {
     "duration": 0.021691,
     "end_time": "2023-04-11T11:36:28.782828",
     "exception": false,
     "start_time": "2023-04-11T11:36:28.761137",
     "status": "completed"
    },
    "tags": []
   },
   "outputs": [],
   "source": [
    "# X_st = StandardScaler().fit_transform(X)\n",
    "\n",
    "# x_train, x_val, y_train, y_val = train_test_split(X_st, y, test_size=0.3, random_state=32, stratify=y)\n",
    "\n",
    "# model_st = get_model(x_train, y_train)\n",
    "# predict_st = model_st.predict(x_val)\n",
    "# predict_int_st = (predict_st>0.5).astype('int32')\n",
    "# print(f'Roc-Auc score: {roc_auc_score(y_val, predict_int_st)}')"
   ]
  },
  {
   "cell_type": "markdown",
   "id": "b4db548e",
   "metadata": {
    "papermill": {
     "duration": 0.010675,
     "end_time": "2023-04-11T11:36:28.804453",
     "exception": false,
     "start_time": "2023-04-11T11:36:28.793778",
     "status": "completed"
    },
    "tags": []
   },
   "source": [
    "2. MinMaxScaler "
   ]
  },
  {
   "cell_type": "code",
   "execution_count": 12,
   "id": "17c82a97",
   "metadata": {
    "execution": {
     "iopub.execute_input": "2023-04-11T11:36:28.828498Z",
     "iopub.status.busy": "2023-04-11T11:36:28.827825Z",
     "iopub.status.idle": "2023-04-11T11:36:28.832998Z",
     "shell.execute_reply": "2023-04-11T11:36:28.831947Z"
    },
    "papermill": {
     "duration": 0.020124,
     "end_time": "2023-04-11T11:36:28.835450",
     "exception": false,
     "start_time": "2023-04-11T11:36:28.815326",
     "status": "completed"
    },
    "tags": []
   },
   "outputs": [],
   "source": [
    "# X_mm = MinMaxScaler().fit_transform(X)\n",
    "\n",
    "# x_train, x_val, y_train, y_val = train_test_split(X_mm, y, test_size=0.3, random_state=32, stratify=y)\n",
    "\n",
    "# model_mm = get_model(x_train, y_train)\n",
    "# predict_mm = model_mm.predict(x_val)\n",
    "# predict_int_mm = (predict_mm>0.5).astype('int32')\n",
    "# print(f'Roc-Auc score: {roc_auc_score(y_val, predict_int_mm)}')"
   ]
  },
  {
   "cell_type": "markdown",
   "id": "242dfe05",
   "metadata": {
    "papermill": {
     "duration": 0.010274,
     "end_time": "2023-04-11T11:36:28.856472",
     "exception": false,
     "start_time": "2023-04-11T11:36:28.846198",
     "status": "completed"
    },
    "tags": []
   },
   "source": [
    "3. Normalizer"
   ]
  },
  {
   "cell_type": "code",
   "execution_count": 13,
   "id": "c5bcbe72",
   "metadata": {
    "execution": {
     "iopub.execute_input": "2023-04-11T11:36:28.880392Z",
     "iopub.status.busy": "2023-04-11T11:36:28.879724Z",
     "iopub.status.idle": "2023-04-11T11:36:28.885173Z",
     "shell.execute_reply": "2023-04-11T11:36:28.883866Z"
    },
    "papermill": {
     "duration": 0.020492,
     "end_time": "2023-04-11T11:36:28.887709",
     "exception": false,
     "start_time": "2023-04-11T11:36:28.867217",
     "status": "completed"
    },
    "tags": []
   },
   "outputs": [],
   "source": [
    "# X_nr = Normalizer().fit_transform(X)\n",
    "\n",
    "# x_train, x_val, y_train, y_val = train_test_split(X_nr, y, test_size=0.3, random_state=32, stratify=y)\n",
    "\n",
    "# model_nr = get_model(x_train, y_train)\n",
    "# predict_nr = model_nr.predict(x_val)\n",
    "# predict_int_nr = (predict_nr>0.5).astype('int32')\n",
    "# print(f'Roc-Auc score: {roc_auc_score(y_val, predict_int_nr)}')"
   ]
  },
  {
   "cell_type": "markdown",
   "id": "1bd04702",
   "metadata": {
    "papermill": {
     "duration": 0.010874,
     "end_time": "2023-04-11T11:36:28.909868",
     "exception": false,
     "start_time": "2023-04-11T11:36:28.898994",
     "status": "completed"
    },
    "tags": []
   },
   "source": [
    "# RandomForest"
   ]
  },
  {
   "cell_type": "code",
   "execution_count": 14,
   "id": "8cc0745e",
   "metadata": {
    "execution": {
     "iopub.execute_input": "2023-04-11T11:36:28.935376Z",
     "iopub.status.busy": "2023-04-11T11:36:28.934939Z",
     "iopub.status.idle": "2023-04-11T11:36:29.537246Z",
     "shell.execute_reply": "2023-04-11T11:36:29.535706Z"
    },
    "papermill": {
     "duration": 0.61917,
     "end_time": "2023-04-11T11:36:29.539948",
     "exception": false,
     "start_time": "2023-04-11T11:36:28.920778",
     "status": "completed"
    },
    "tags": []
   },
   "outputs": [
    {
     "name": "stdout",
     "output_type": "stream",
     "text": [
      "x_train: (289, 6)\n",
      "x_val: (125, 6)\n",
      "\n",
      "StandardScaler()\n",
      "Roc-Auc score: 0.6953933747412009\n",
      "MinMaxScaler()\n",
      "Roc-Auc score: 0.6881469979296065\n",
      "Normalizer()\n",
      "Roc-Auc score: 0.6753364389233955\n"
     ]
    }
   ],
   "source": [
    "x_train, x_val, y_train, y_val = train_test_split(X, y, test_size=0.3, random_state=32, stratify=y)\n",
    "print(f'x_train: {x_train.shape}')\n",
    "print(f'x_val: {x_val.shape}\\n')\n",
    "st = (StandardScaler(), MinMaxScaler(), Normalizer())\n",
    "\n",
    "for s in st:\n",
    "    print(s)\n",
    "    pipe = make_pipeline(s, RandomForestRegressor())\n",
    "    pipe.fit(x_train, y_train)\n",
    "    predict_pipe = pipe.predict(x_val)\n",
    "    predict_int = (predict_pipe>0.5).astype('int32')\n",
    "    print(f'Roc-Auc score: {roc_auc_score(y_val, predict_int)}')"
   ]
  },
  {
   "cell_type": "code",
   "execution_count": 15,
   "id": "a9ed5eed",
   "metadata": {
    "execution": {
     "iopub.execute_input": "2023-04-11T11:36:29.563820Z",
     "iopub.status.busy": "2023-04-11T11:36:29.563396Z",
     "iopub.status.idle": "2023-04-11T11:36:29.569120Z",
     "shell.execute_reply": "2023-04-11T11:36:29.567820Z"
    },
    "papermill": {
     "duration": 0.021033,
     "end_time": "2023-04-11T11:36:29.571939",
     "exception": false,
     "start_time": "2023-04-11T11:36:29.550906",
     "status": "completed"
    },
    "tags": []
   },
   "outputs": [],
   "source": [
    "# params = {'n_estimators':[500, 1000, 1500],\n",
    "#           'max_depth': [4,5,6],\n",
    "#           'min_samples_split':[2,3,4]}\n",
    "# gridSearch = GridSearchCV(RandomForestRegressor(), params)\n",
    "# gridSearch.fit(x_val, y_val)\n",
    "# print(f'{gridSearch.best_params_}: {gridSearch.best_score_}')"
   ]
  },
  {
   "cell_type": "code",
   "execution_count": 16,
   "id": "eed6c645",
   "metadata": {
    "execution": {
     "iopub.execute_input": "2023-04-11T11:36:29.596375Z",
     "iopub.status.busy": "2023-04-11T11:36:29.595969Z",
     "iopub.status.idle": "2023-04-11T11:36:31.223181Z",
     "shell.execute_reply": "2023-04-11T11:36:31.221496Z"
    },
    "papermill": {
     "duration": 1.642893,
     "end_time": "2023-04-11T11:36:31.226270",
     "exception": false,
     "start_time": "2023-04-11T11:36:29.583377",
     "status": "completed"
    },
    "tags": []
   },
   "outputs": [
    {
     "name": "stdout",
     "output_type": "stream",
     "text": [
      "Roc-Auc score: 0.697075569358178\n"
     ]
    }
   ],
   "source": [
    "# model_reg = make_pipeline(MinMaxScaler(), RandomForestRegressor(max_depth=4, min_samples_split=2, n_estimators=1000))\n",
    "model_reg = RandomForestRegressor(max_depth=4, min_samples_split=2, n_estimators=1000)\n",
    "model_reg.fit(x_train, y_train)\n",
    "predict_reg = model_reg.predict(x_val)\n",
    "predict_int = (predict_reg>0.5).astype('int32')\n",
    "print(f'Roc-Auc score: {roc_auc_score(y_val, predict_int)}')"
   ]
  },
  {
   "cell_type": "code",
   "execution_count": 17,
   "id": "6bfefcea",
   "metadata": {
    "execution": {
     "iopub.execute_input": "2023-04-11T11:36:31.250392Z",
     "iopub.status.busy": "2023-04-11T11:36:31.250002Z",
     "iopub.status.idle": "2023-04-11T11:36:31.255530Z",
     "shell.execute_reply": "2023-04-11T11:36:31.253989Z"
    },
    "papermill": {
     "duration": 0.021092,
     "end_time": "2023-04-11T11:36:31.258395",
     "exception": false,
     "start_time": "2023-04-11T11:36:31.237303",
     "status": "completed"
    },
    "tags": []
   },
   "outputs": [],
   "source": [
    "# params2 = {'n_estimators':[500, 1000, 1500],\n",
    "#           'max_depth': [4,5,6],\n",
    "#           'min_samples_split':[2,3,4],\n",
    "#           'criterion':['gini','entropy'],\n",
    "#           'min_samples_leaf':[1,2,4],\n",
    "#           'random_state': [10, 20, 30]}\n",
    "# gridSearch2 = GridSearchCV(RandomForestClassifier(), params2)\n",
    "# gridSearch2.fit(x_val, y_val)\n",
    "# print(f'{gridSearch2.best_params_}: {gridSearch2.best_score_}')"
   ]
  },
  {
   "cell_type": "code",
   "execution_count": 18,
   "id": "677fcb1c",
   "metadata": {
    "execution": {
     "iopub.execute_input": "2023-04-11T11:36:31.283425Z",
     "iopub.status.busy": "2023-04-11T11:36:31.282325Z",
     "iopub.status.idle": "2023-04-11T11:36:32.225614Z",
     "shell.execute_reply": "2023-04-11T11:36:32.223802Z"
    },
    "papermill": {
     "duration": 0.958889,
     "end_time": "2023-04-11T11:36:32.228706",
     "exception": false,
     "start_time": "2023-04-11T11:36:31.269817",
     "status": "completed"
    },
    "tags": []
   },
   "outputs": [
    {
     "name": "stdout",
     "output_type": "stream",
     "text": [
      "Roc-Auc score: 0.7919254658385094\n",
      "[[60  9]\n",
      " [16 40]]\n"
     ]
    }
   ],
   "source": [
    "model_clf = RandomForestClassifier(max_depth=4, min_samples_split=2, n_estimators=500, criterion='gini',\n",
    "                                  min_samples_leaf=2, random_state=20)\n",
    "model_clf.fit(X, y)\n",
    "predict_clf_proba = model_clf.predict_proba(x_val)\n",
    "predict_clf = model_clf.predict(x_val)\n",
    "print(f'Roc-Auc score: {roc_auc_score(y_val, predict_clf)}')\n",
    "print(confusion_matrix(y_val, predict_clf))"
   ]
  },
  {
   "cell_type": "code",
   "execution_count": 19,
   "id": "b0e49c75",
   "metadata": {
    "execution": {
     "iopub.execute_input": "2023-04-11T11:36:32.254205Z",
     "iopub.status.busy": "2023-04-11T11:36:32.253473Z",
     "iopub.status.idle": "2023-04-11T11:36:47.280372Z",
     "shell.execute_reply": "2023-04-11T11:36:47.279332Z"
    },
    "papermill": {
     "duration": 15.043591,
     "end_time": "2023-04-11T11:36:47.283659",
     "exception": false,
     "start_time": "2023-04-11T11:36:32.240068",
     "status": "completed"
    },
    "tags": []
   },
   "outputs": [
    {
     "name": "stdout",
     "output_type": "stream",
     "text": [
      "Roc-Auc score: 0.9927536231884059\n",
      "[[68  1]\n",
      " [ 0 56]]\n"
     ]
    }
   ],
   "source": [
    "model_clf2 = AdaBoostClassifier(RandomForestClassifier(max_depth=4, min_samples_split=2, n_estimators=500, criterion='gini',\n",
    "                                  min_samples_leaf=2, random_state=20), n_estimators=150, random_state=32)\n",
    "model_clf2.fit(X, y)\n",
    "predict_clf2_proba = model_clf2.predict_proba(x_val)\n",
    "predict_clf2 = model_clf2.predict(x_val)\n",
    "print(f'Roc-Auc score: {roc_auc_score(y_val, predict_clf2)}')\n",
    "print(confusion_matrix(y_val, predict_clf2))"
   ]
  },
  {
   "cell_type": "markdown",
   "id": "ba43b83f",
   "metadata": {
    "papermill": {
     "duration": 0.016229,
     "end_time": "2023-04-11T11:36:47.316750",
     "exception": false,
     "start_time": "2023-04-11T11:36:47.300521",
     "status": "completed"
    },
    "tags": []
   },
   "source": [
    "Roc-Auc score: 0.7166149068322982"
   ]
  },
  {
   "cell_type": "markdown",
   "id": "1745d69b",
   "metadata": {
    "papermill": {
     "duration": 0.010847,
     "end_time": "2023-04-11T11:36:47.339859",
     "exception": false,
     "start_time": "2023-04-11T11:36:47.329012",
     "status": "completed"
    },
    "tags": []
   },
   "source": [
    "# Predict test"
   ]
  },
  {
   "cell_type": "code",
   "execution_count": 20,
   "id": "7fd3e2bc",
   "metadata": {
    "execution": {
     "iopub.execute_input": "2023-04-11T11:36:47.367963Z",
     "iopub.status.busy": "2023-04-11T11:36:47.367399Z",
     "iopub.status.idle": "2023-04-11T11:36:47.404451Z",
     "shell.execute_reply": "2023-04-11T11:36:47.403213Z"
    },
    "papermill": {
     "duration": 0.055877,
     "end_time": "2023-04-11T11:36:47.407055",
     "exception": false,
     "start_time": "2023-04-11T11:36:47.351178",
     "status": "completed"
    },
    "tags": []
   },
   "outputs": [
    {
     "name": "stdout",
     "output_type": "stream",
     "text": [
      "(276, 6)\n"
     ]
    },
    {
     "data": {
      "text/html": [
       "<div>\n",
       "<style scoped>\n",
       "    .dataframe tbody tr th:only-of-type {\n",
       "        vertical-align: middle;\n",
       "    }\n",
       "\n",
       "    .dataframe tbody tr th {\n",
       "        vertical-align: top;\n",
       "    }\n",
       "\n",
       "    .dataframe thead th {\n",
       "        text-align: right;\n",
       "    }\n",
       "</style>\n",
       "<table border=\"1\" class=\"dataframe\">\n",
       "  <thead>\n",
       "    <tr style=\"text-align: right;\">\n",
       "      <th></th>\n",
       "      <th>gravity</th>\n",
       "      <th>ph</th>\n",
       "      <th>osmo</th>\n",
       "      <th>cond</th>\n",
       "      <th>urea</th>\n",
       "      <th>calc</th>\n",
       "    </tr>\n",
       "    <tr>\n",
       "      <th>id</th>\n",
       "      <th></th>\n",
       "      <th></th>\n",
       "      <th></th>\n",
       "      <th></th>\n",
       "      <th></th>\n",
       "      <th></th>\n",
       "    </tr>\n",
       "  </thead>\n",
       "  <tbody>\n",
       "    <tr>\n",
       "      <th>414</th>\n",
       "      <td>1.017</td>\n",
       "      <td>5.24</td>\n",
       "      <td>345</td>\n",
       "      <td>11.5</td>\n",
       "      <td>152</td>\n",
       "      <td>1.16</td>\n",
       "    </tr>\n",
       "    <tr>\n",
       "      <th>415</th>\n",
       "      <td>1.020</td>\n",
       "      <td>5.68</td>\n",
       "      <td>874</td>\n",
       "      <td>29.0</td>\n",
       "      <td>385</td>\n",
       "      <td>3.46</td>\n",
       "    </tr>\n",
       "    <tr>\n",
       "      <th>416</th>\n",
       "      <td>1.024</td>\n",
       "      <td>5.36</td>\n",
       "      <td>698</td>\n",
       "      <td>19.5</td>\n",
       "      <td>354</td>\n",
       "      <td>13.00</td>\n",
       "    </tr>\n",
       "    <tr>\n",
       "      <th>417</th>\n",
       "      <td>1.020</td>\n",
       "      <td>5.33</td>\n",
       "      <td>668</td>\n",
       "      <td>25.3</td>\n",
       "      <td>252</td>\n",
       "      <td>3.46</td>\n",
       "    </tr>\n",
       "    <tr>\n",
       "      <th>418</th>\n",
       "      <td>1.011</td>\n",
       "      <td>5.87</td>\n",
       "      <td>567</td>\n",
       "      <td>29.0</td>\n",
       "      <td>457</td>\n",
       "      <td>2.36</td>\n",
       "    </tr>\n",
       "  </tbody>\n",
       "</table>\n",
       "</div>"
      ],
      "text/plain": [
       "     gravity    ph  osmo  cond  urea   calc\n",
       "id                                         \n",
       "414    1.017  5.24   345  11.5   152   1.16\n",
       "415    1.020  5.68   874  29.0   385   3.46\n",
       "416    1.024  5.36   698  19.5   354  13.00\n",
       "417    1.020  5.33   668  25.3   252   3.46\n",
       "418    1.011  5.87   567  29.0   457   2.36"
      ]
     },
     "execution_count": 20,
     "metadata": {},
     "output_type": "execute_result"
    }
   ],
   "source": [
    "test = pd.read_csv('/kaggle/input/playground-series-s3e12/test.csv', index_col='id')\n",
    "print(test.shape)\n",
    "test.head()"
   ]
  },
  {
   "cell_type": "code",
   "execution_count": 21,
   "id": "19b0e396",
   "metadata": {
    "execution": {
     "iopub.execute_input": "2023-04-11T11:36:47.433841Z",
     "iopub.status.busy": "2023-04-11T11:36:47.432838Z",
     "iopub.status.idle": "2023-04-11T11:36:48.297759Z",
     "shell.execute_reply": "2023-04-11T11:36:48.296482Z"
    },
    "papermill": {
     "duration": 0.881805,
     "end_time": "2023-04-11T11:36:48.300635",
     "exception": false,
     "start_time": "2023-04-11T11:36:47.418830",
     "status": "completed"
    },
    "tags": []
   },
   "outputs": [
    {
     "data": {
      "image/png": "[encoded data removed]",
      "text/plain": [
       "<Figure size 1500x500 with 6 Axes>"
      ]
     },
     "metadata": {},
     "output_type": "display_data"
    }
   ],
   "source": [
    "fig, ax = plt.subplots(1,6, figsize=(15,5))\n",
    "\n",
    "for i in range(6):\n",
    "    sns.boxplot(ax=ax[i], y=test.iloc[:,i])\n",
    "    ax[i].set_title(test.columns[i])\n",
    "    \n",
    "fig.tight_layout()\n",
    "fig.show()"
   ]
  },
  {
   "cell_type": "code",
   "execution_count": 22,
   "id": "6dde2394",
   "metadata": {
    "execution": {
     "iopub.execute_input": "2023-04-11T11:36:48.328921Z",
     "iopub.status.busy": "2023-04-11T11:36:48.327841Z",
     "iopub.status.idle": "2023-04-11T11:36:48.338056Z",
     "shell.execute_reply": "2023-04-11T11:36:48.336818Z"
    },
    "papermill": {
     "duration": 0.027457,
     "end_time": "2023-04-11T11:36:48.340807",
     "exception": false,
     "start_time": "2023-04-11T11:36:48.313350",
     "status": "completed"
    },
    "tags": []
   },
   "outputs": [],
   "source": [
    "qPH = np.quantile(test.ph, 0.96)\n",
    "qC = np.quantile(test.calc, 0.94)\n",
    "test.loc[test.ph>qPH, 'ph'] = qPH\n",
    "test.loc[test.calc>qC, 'calc'] = qC"
   ]
  },
  {
   "cell_type": "code",
   "execution_count": 23,
   "id": "40863063",
   "metadata": {
    "execution": {
     "iopub.execute_input": "2023-04-11T11:36:48.367981Z",
     "iopub.status.busy": "2023-04-11T11:36:48.367530Z",
     "iopub.status.idle": "2023-04-11T11:36:48.450160Z",
     "shell.execute_reply": "2023-04-11T11:36:48.448753Z"
    },
    "papermill": {
     "duration": 0.09956,
     "end_time": "2023-04-11T11:36:48.452718",
     "exception": false,
     "start_time": "2023-04-11T11:36:48.353158",
     "status": "completed"
    },
    "tags": []
   },
   "outputs": [
    {
     "data": {
      "text/plain": [
       "array([[0.76904141, 0.23095859],\n",
       "       [0.49189768, 0.50810232],\n",
       "       [0.21122742, 0.78877258],\n",
       "       [0.530858  , 0.469142  ],\n",
       "       [0.65439435, 0.34560565]])"
      ]
     },
     "execution_count": 23,
     "metadata": {},
     "output_type": "execute_result"
    }
   ],
   "source": [
    "predict_st_test = model_clf.predict_proba(test)\n",
    "predict_st_test[:5]"
   ]
  },
  {
   "cell_type": "code",
   "execution_count": 24,
   "id": "ea3f16ce",
   "metadata": {
    "execution": {
     "iopub.execute_input": "2023-04-11T11:36:48.479483Z",
     "iopub.status.busy": "2023-04-11T11:36:48.478686Z",
     "iopub.status.idle": "2023-04-11T11:36:48.486143Z",
     "shell.execute_reply": "2023-04-11T11:36:48.484798Z"
    },
    "papermill": {
     "duration": 0.023617,
     "end_time": "2023-04-11T11:36:48.488759",
     "exception": false,
     "start_time": "2023-04-11T11:36:48.465142",
     "status": "completed"
    },
    "tags": []
   },
   "outputs": [],
   "source": [
    "mas = []\n",
    "for i in predict_st_test:\n",
    "    mas.append(i[-1].round(1))"
   ]
  },
  {
   "cell_type": "code",
   "execution_count": 25,
   "id": "d9acb370",
   "metadata": {
    "execution": {
     "iopub.execute_input": "2023-04-11T11:36:48.515924Z",
     "iopub.status.busy": "2023-04-11T11:36:48.514946Z",
     "iopub.status.idle": "2023-04-11T11:36:48.523928Z",
     "shell.execute_reply": "2023-04-11T11:36:48.522676Z"
    },
    "papermill": {
     "duration": 0.025266,
     "end_time": "2023-04-11T11:36:48.526397",
     "exception": false,
     "start_time": "2023-04-11T11:36:48.501131",
     "status": "completed"
    },
    "tags": []
   },
   "outputs": [
    {
     "data": {
      "text/plain": [
       "[0.2, 0.5, 0.8, 0.5, 0.3]"
      ]
     },
     "execution_count": 25,
     "metadata": {},
     "output_type": "execute_result"
    }
   ],
   "source": [
    "mas[:5]"
   ]
  },
  {
   "cell_type": "code",
   "execution_count": 26,
   "id": "87387d06",
   "metadata": {
    "execution": {
     "iopub.execute_input": "2023-04-11T11:36:48.553190Z",
     "iopub.status.busy": "2023-04-11T11:36:48.552744Z",
     "iopub.status.idle": "2023-04-11T11:36:48.557534Z",
     "shell.execute_reply": "2023-04-11T11:36:48.556399Z"
    },
    "papermill": {
     "duration": 0.021516,
     "end_time": "2023-04-11T11:36:48.560277",
     "exception": false,
     "start_time": "2023-04-11T11:36:48.538761",
     "status": "completed"
    },
    "tags": []
   },
   "outputs": [],
   "source": [
    "# predict_st_test"
   ]
  },
  {
   "cell_type": "code",
   "execution_count": 27,
   "id": "af567503",
   "metadata": {
    "execution": {
     "iopub.execute_input": "2023-04-11T11:36:48.588596Z",
     "iopub.status.busy": "2023-04-11T11:36:48.587423Z",
     "iopub.status.idle": "2023-04-11T11:36:48.592524Z",
     "shell.execute_reply": "2023-04-11T11:36:48.591335Z"
    },
    "papermill": {
     "duration": 0.022253,
     "end_time": "2023-04-11T11:36:48.595142",
     "exception": false,
     "start_time": "2023-04-11T11:36:48.572889",
     "status": "completed"
    },
    "tags": []
   },
   "outputs": [],
   "source": [
    "# predict_reg_test = model_reg.predict(test).round(1)\n",
    "# predict_reg_test[:5]"
   ]
  },
  {
   "cell_type": "code",
   "execution_count": 28,
   "id": "aa111773",
   "metadata": {
    "execution": {
     "iopub.execute_input": "2023-04-11T11:36:48.622904Z",
     "iopub.status.busy": "2023-04-11T11:36:48.622450Z",
     "iopub.status.idle": "2023-04-11T11:36:48.635229Z",
     "shell.execute_reply": "2023-04-11T11:36:48.633982Z"
    },
    "papermill": {
     "duration": 0.030625,
     "end_time": "2023-04-11T11:36:48.638387",
     "exception": false,
     "start_time": "2023-04-11T11:36:48.607762",
     "status": "completed"
    },
    "tags": []
   },
   "outputs": [],
   "source": [
    "sample_submission = pd.DataFrame(data={'id':test.index, 'target':mas})\n",
    "sample_submission.to_csv('sample_submissiom.csv', index=False)"
   ]
  }
 ],
 "metadata": {
  "kernelspec": {
   "display_name": "Python 3",
   "language": "python",
   "name": "python3"
  },
  "language_info": {
   "codemirror_mode": {
    "name": "ipython",
    "version": 3
   },
   "file_extension": ".py",
   "mimetype": "text/x-python",
   "name": "python",
   "nbconvert_exporter": "python",
   "pygments_lexer": "ipython3",
   "version": "3.7.12"
  },
  "papermill": {
   "default_parameters": {},
   "duration": 47.883272,
   "end_time": "2023-04-11T11:36:51.367179",
   "environment_variables": {},
   "exception": null,
   "input_path": "__notebook__.ipynb",
   "output_path": "__notebook__.ipynb",
   "parameters": {},
   "start_time": "2023-04-11T11:36:03.483907",
   "version": "2.4.0"
  }
 },
 "nbformat": 4,
 "nbformat_minor": 5
}
