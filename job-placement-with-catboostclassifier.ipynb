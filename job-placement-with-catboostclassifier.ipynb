{
 "cells": [
  {
   "cell_type": "code",
   "execution_count": 1,
   "id": "7f8da2a2",
   "metadata": {
    "_cell_guid": "b1076dfc-b9ad-4769-8c92-a6c4dae69d19",
    "_uuid": "8f2839f25d086af736a60e9eeb907d3b93b6e0e5",
    "execution": {
     "iopub.execute_input": "2023-02-04T13:55:20.909348Z",
     "iopub.status.busy": "2023-02-04T13:55:20.908663Z",
     "iopub.status.idle": "2023-02-04T13:55:35.519412Z",
     "shell.execute_reply": "2023-02-04T13:55:35.518143Z"
    },
    "papermill": {
     "duration": 14.623237,
     "end_time": "2023-02-04T13:55:35.522572",
     "exception": false,
     "start_time": "2023-02-04T13:55:20.899335",
     "status": "completed"
    },
    "tags": []
   },
   "outputs": [
    {
     "name": "stdout",
     "output_type": "stream",
     "text": [
      "\u001b[33mWARNING: Running pip as the 'root' user can result in broken permissions and conflicting behaviour with the system package manager. It is recommended to use a virtual environment instead: https://pip.pypa.io/warnings/venv\u001b[0m\u001b[33m\r\n",
      "\u001b[0m"
     ]
    }
   ],
   "source": [
    "import numpy as np # linear algebra\n",
    "import pandas as pd # data processing, CSV file I/O (e.g. pd.read_csv)\n",
    "import seaborn as sns\n",
    "import matplotlib.pyplot as plt\n",
    "from sklearn.preprocessing import StandardScaler, MinMaxScaler, Normalizer\n",
    "from sklearn.model_selection import GridSearchCV\n",
    "from sklearn.model_selection import train_test_split\n",
    "from sklearn.metrics import classification_report, roc_auc_score, roc_curve\n",
    "from sklearn.pipeline import make_pipeline\n",
    "\n",
    "!pip install -q catboost\n",
    "from catboost import CatBoostClassifier"
   ]
  },
  {
   "cell_type": "code",
   "execution_count": 2,
   "id": "31cf2679",
   "metadata": {
    "execution": {
     "iopub.execute_input": "2023-02-04T13:55:35.537261Z",
     "iopub.status.busy": "2023-02-04T13:55:35.536836Z",
     "iopub.status.idle": "2023-02-04T13:55:35.593109Z",
     "shell.execute_reply": "2023-02-04T13:55:35.591702Z"
    },
    "papermill": {
     "duration": 0.066609,
     "end_time": "2023-02-04T13:55:35.595584",
     "exception": false,
     "start_time": "2023-02-04T13:55:35.528975",
     "status": "completed"
    },
    "tags": []
   },
   "outputs": [
    {
     "name": "stdout",
     "output_type": "stream",
     "text": [
      "(215, 13)\n"
     ]
    },
    {
     "data": {
      "text/html": [
       "<div>\n",
       "<style scoped>\n",
       "    .dataframe tbody tr th:only-of-type {\n",
       "        vertical-align: middle;\n",
       "    }\n",
       "\n",
       "    .dataframe tbody tr th {\n",
       "        vertical-align: top;\n",
       "    }\n",
       "\n",
       "    .dataframe thead th {\n",
       "        text-align: right;\n",
       "    }\n",
       "</style>\n",
       "<table border=\"1\" class=\"dataframe\">\n",
       "  <thead>\n",
       "    <tr style=\"text-align: right;\">\n",
       "      <th></th>\n",
       "      <th>gender</th>\n",
       "      <th>ssc_percentage</th>\n",
       "      <th>ssc_board</th>\n",
       "      <th>hsc_percentage</th>\n",
       "      <th>hsc_board</th>\n",
       "      <th>hsc_subject</th>\n",
       "      <th>degree_percentage</th>\n",
       "      <th>undergrad_degree</th>\n",
       "      <th>work_experience</th>\n",
       "      <th>emp_test_percentage</th>\n",
       "      <th>specialisation</th>\n",
       "      <th>mba_percent</th>\n",
       "      <th>status</th>\n",
       "    </tr>\n",
       "  </thead>\n",
       "  <tbody>\n",
       "    <tr>\n",
       "      <th>0</th>\n",
       "      <td>M</td>\n",
       "      <td>67.00</td>\n",
       "      <td>Others</td>\n",
       "      <td>91.00</td>\n",
       "      <td>Others</td>\n",
       "      <td>Commerce</td>\n",
       "      <td>58.00</td>\n",
       "      <td>Sci&amp;Tech</td>\n",
       "      <td>No</td>\n",
       "      <td>55.0</td>\n",
       "      <td>Mkt&amp;HR</td>\n",
       "      <td>58.80</td>\n",
       "      <td>Placed</td>\n",
       "    </tr>\n",
       "    <tr>\n",
       "      <th>1</th>\n",
       "      <td>M</td>\n",
       "      <td>79.33</td>\n",
       "      <td>Central</td>\n",
       "      <td>78.33</td>\n",
       "      <td>Others</td>\n",
       "      <td>Science</td>\n",
       "      <td>77.48</td>\n",
       "      <td>Sci&amp;Tech</td>\n",
       "      <td>Yes</td>\n",
       "      <td>86.5</td>\n",
       "      <td>Mkt&amp;Fin</td>\n",
       "      <td>66.28</td>\n",
       "      <td>Placed</td>\n",
       "    </tr>\n",
       "    <tr>\n",
       "      <th>2</th>\n",
       "      <td>M</td>\n",
       "      <td>65.00</td>\n",
       "      <td>Central</td>\n",
       "      <td>68.00</td>\n",
       "      <td>Central</td>\n",
       "      <td>Arts</td>\n",
       "      <td>64.00</td>\n",
       "      <td>Comm&amp;Mgmt</td>\n",
       "      <td>No</td>\n",
       "      <td>75.0</td>\n",
       "      <td>Mkt&amp;Fin</td>\n",
       "      <td>57.80</td>\n",
       "      <td>Placed</td>\n",
       "    </tr>\n",
       "    <tr>\n",
       "      <th>3</th>\n",
       "      <td>M</td>\n",
       "      <td>56.00</td>\n",
       "      <td>Central</td>\n",
       "      <td>52.00</td>\n",
       "      <td>Central</td>\n",
       "      <td>Science</td>\n",
       "      <td>52.00</td>\n",
       "      <td>Sci&amp;Tech</td>\n",
       "      <td>No</td>\n",
       "      <td>66.0</td>\n",
       "      <td>Mkt&amp;HR</td>\n",
       "      <td>59.43</td>\n",
       "      <td>Not Placed</td>\n",
       "    </tr>\n",
       "    <tr>\n",
       "      <th>4</th>\n",
       "      <td>M</td>\n",
       "      <td>85.80</td>\n",
       "      <td>Central</td>\n",
       "      <td>73.60</td>\n",
       "      <td>Central</td>\n",
       "      <td>Commerce</td>\n",
       "      <td>73.30</td>\n",
       "      <td>Comm&amp;Mgmt</td>\n",
       "      <td>No</td>\n",
       "      <td>96.8</td>\n",
       "      <td>Mkt&amp;Fin</td>\n",
       "      <td>55.50</td>\n",
       "      <td>Placed</td>\n",
       "    </tr>\n",
       "  </tbody>\n",
       "</table>\n",
       "</div>"
      ],
      "text/plain": [
       "  gender  ssc_percentage ssc_board  hsc_percentage hsc_board hsc_subject  \\\n",
       "0      M           67.00    Others           91.00    Others    Commerce   \n",
       "1      M           79.33   Central           78.33    Others     Science   \n",
       "2      M           65.00   Central           68.00   Central        Arts   \n",
       "3      M           56.00   Central           52.00   Central     Science   \n",
       "4      M           85.80   Central           73.60   Central    Commerce   \n",
       "\n",
       "   degree_percentage undergrad_degree work_experience  emp_test_percentage  \\\n",
       "0              58.00         Sci&Tech              No                 55.0   \n",
       "1              77.48         Sci&Tech             Yes                 86.5   \n",
       "2              64.00        Comm&Mgmt              No                 75.0   \n",
       "3              52.00         Sci&Tech              No                 66.0   \n",
       "4              73.30        Comm&Mgmt              No                 96.8   \n",
       "\n",
       "  specialisation  mba_percent      status  \n",
       "0         Mkt&HR        58.80      Placed  \n",
       "1        Mkt&Fin        66.28      Placed  \n",
       "2        Mkt&Fin        57.80      Placed  \n",
       "3         Mkt&HR        59.43  Not Placed  \n",
       "4        Mkt&Fin        55.50      Placed  "
      ]
     },
     "execution_count": 2,
     "metadata": {},
     "output_type": "execute_result"
    }
   ],
   "source": [
    "job = pd.read_csv('/kaggle/input/job-placement-dataset/Job_Placement_Data.csv')\n",
    "print(job.shape)\n",
    "job.head()"
   ]
  },
  {
   "cell_type": "code",
   "execution_count": 3,
   "id": "14981711",
   "metadata": {
    "execution": {
     "iopub.execute_input": "2023-02-04T13:55:35.610046Z",
     "iopub.status.busy": "2023-02-04T13:55:35.609653Z",
     "iopub.status.idle": "2023-02-04T13:55:35.623876Z",
     "shell.execute_reply": "2023-02-04T13:55:35.622580Z"
    },
    "papermill": {
     "duration": 0.024527,
     "end_time": "2023-02-04T13:55:35.626332",
     "exception": false,
     "start_time": "2023-02-04T13:55:35.601805",
     "status": "completed"
    },
    "tags": []
   },
   "outputs": [],
   "source": [
    "job.status = job.status.map({'Placed': 1, 'Not Placed': 0})"
   ]
  },
  {
   "cell_type": "markdown",
   "id": "1b8254b9",
   "metadata": {
    "papermill": {
     "duration": 0.006156,
     "end_time": "2023-02-04T13:55:35.638909",
     "exception": false,
     "start_time": "2023-02-04T13:55:35.632753",
     "status": "completed"
    },
    "tags": []
   },
   "source": [
    "Перед началом обучения я хочу проверить, есть ли данные, не влияющие на **status**"
   ]
  },
  {
   "cell_type": "code",
   "execution_count": 4,
   "id": "d7c65bee",
   "metadata": {
    "execution": {
     "iopub.execute_input": "2023-02-04T13:55:35.653862Z",
     "iopub.status.busy": "2023-02-04T13:55:35.653471Z",
     "iopub.status.idle": "2023-02-04T13:55:36.138176Z",
     "shell.execute_reply": "2023-02-04T13:55:36.136966Z"
    },
    "papermill": {
     "duration": 0.495173,
     "end_time": "2023-02-04T13:55:36.140828",
     "exception": false,
     "start_time": "2023-02-04T13:55:35.645655",
     "status": "completed"
    },
    "tags": []
   },
   "outputs": [
    {
     "data": {
      "image/png": "[encoded data removed]",
      "text/plain": [
       "<Figure size 432x288 with 2 Axes>"
      ]
     },
     "metadata": {
      "needs_background": "light"
     },
     "output_type": "display_data"
    }
   ],
   "source": [
    "sns.heatmap(job.corr(), xticklabels=job.corr().columns, yticklabels=job.corr().columns,\n",
    "            vmin=-1, vmax=1, annot=True)\n",
    "plt.show()"
   ]
  },
  {
   "cell_type": "markdown",
   "id": "b255400e",
   "metadata": {
    "papermill": {
     "duration": 0.006746,
     "end_time": "2023-02-04T13:55:36.154662",
     "exception": false,
     "start_time": "2023-02-04T13:55:36.147916",
     "status": "completed"
    },
    "tags": []
   },
   "source": [
    "Параметры **emp_test_percentage** и **mba_percent** слабо коррелируют с **status**, поэтому будут удалены"
   ]
  },
  {
   "cell_type": "code",
   "execution_count": 5,
   "id": "f65f4218",
   "metadata": {
    "execution": {
     "iopub.execute_input": "2023-02-04T13:55:36.170153Z",
     "iopub.status.busy": "2023-02-04T13:55:36.169704Z",
     "iopub.status.idle": "2023-02-04T13:55:36.177239Z",
     "shell.execute_reply": "2023-02-04T13:55:36.176192Z"
    },
    "papermill": {
     "duration": 0.018456,
     "end_time": "2023-02-04T13:55:36.179971",
     "exception": false,
     "start_time": "2023-02-04T13:55:36.161515",
     "status": "completed"
    },
    "tags": []
   },
   "outputs": [],
   "source": [
    "target = job.status\n",
    "job = job.drop(columns=['emp_test_percentage','mba_percent','status'])"
   ]
  },
  {
   "cell_type": "code",
   "execution_count": 6,
   "id": "d12680a9",
   "metadata": {
    "execution": {
     "iopub.execute_input": "2023-02-04T13:55:36.196523Z",
     "iopub.status.busy": "2023-02-04T13:55:36.195833Z",
     "iopub.status.idle": "2023-02-04T13:55:36.224497Z",
     "shell.execute_reply": "2023-02-04T13:55:36.223215Z"
    },
    "papermill": {
     "duration": 0.039464,
     "end_time": "2023-02-04T13:55:36.226838",
     "exception": false,
     "start_time": "2023-02-04T13:55:36.187374",
     "status": "completed"
    },
    "tags": []
   },
   "outputs": [
    {
     "data": {
      "text/html": [
       "<div>\n",
       "<style scoped>\n",
       "    .dataframe tbody tr th:only-of-type {\n",
       "        vertical-align: middle;\n",
       "    }\n",
       "\n",
       "    .dataframe tbody tr th {\n",
       "        vertical-align: top;\n",
       "    }\n",
       "\n",
       "    .dataframe thead th {\n",
       "        text-align: right;\n",
       "    }\n",
       "</style>\n",
       "<table border=\"1\" class=\"dataframe\">\n",
       "  <thead>\n",
       "    <tr style=\"text-align: right;\">\n",
       "      <th></th>\n",
       "      <th>ssc_percentage</th>\n",
       "      <th>hsc_percentage</th>\n",
       "      <th>degree_percentage</th>\n",
       "      <th>gender_F</th>\n",
       "      <th>gender_M</th>\n",
       "      <th>ssc_board_Central</th>\n",
       "      <th>ssc_board_Others</th>\n",
       "      <th>hsc_board_Central</th>\n",
       "      <th>hsc_board_Others</th>\n",
       "      <th>hsc_subject_Arts</th>\n",
       "      <th>hsc_subject_Commerce</th>\n",
       "      <th>hsc_subject_Science</th>\n",
       "      <th>undergrad_degree_Comm&amp;Mgmt</th>\n",
       "      <th>undergrad_degree_Others</th>\n",
       "      <th>undergrad_degree_Sci&amp;Tech</th>\n",
       "      <th>work_experience_No</th>\n",
       "      <th>work_experience_Yes</th>\n",
       "      <th>specialisation_Mkt&amp;Fin</th>\n",
       "      <th>specialisation_Mkt&amp;HR</th>\n",
       "    </tr>\n",
       "  </thead>\n",
       "  <tbody>\n",
       "    <tr>\n",
       "      <th>0</th>\n",
       "      <td>67.00</td>\n",
       "      <td>91.00</td>\n",
       "      <td>58.00</td>\n",
       "      <td>0</td>\n",
       "      <td>1</td>\n",
       "      <td>0</td>\n",
       "      <td>1</td>\n",
       "      <td>0</td>\n",
       "      <td>1</td>\n",
       "      <td>0</td>\n",
       "      <td>1</td>\n",
       "      <td>0</td>\n",
       "      <td>0</td>\n",
       "      <td>0</td>\n",
       "      <td>1</td>\n",
       "      <td>1</td>\n",
       "      <td>0</td>\n",
       "      <td>0</td>\n",
       "      <td>1</td>\n",
       "    </tr>\n",
       "    <tr>\n",
       "      <th>1</th>\n",
       "      <td>79.33</td>\n",
       "      <td>78.33</td>\n",
       "      <td>77.48</td>\n",
       "      <td>0</td>\n",
       "      <td>1</td>\n",
       "      <td>1</td>\n",
       "      <td>0</td>\n",
       "      <td>0</td>\n",
       "      <td>1</td>\n",
       "      <td>0</td>\n",
       "      <td>0</td>\n",
       "      <td>1</td>\n",
       "      <td>0</td>\n",
       "      <td>0</td>\n",
       "      <td>1</td>\n",
       "      <td>0</td>\n",
       "      <td>1</td>\n",
       "      <td>1</td>\n",
       "      <td>0</td>\n",
       "    </tr>\n",
       "    <tr>\n",
       "      <th>2</th>\n",
       "      <td>65.00</td>\n",
       "      <td>68.00</td>\n",
       "      <td>64.00</td>\n",
       "      <td>0</td>\n",
       "      <td>1</td>\n",
       "      <td>1</td>\n",
       "      <td>0</td>\n",
       "      <td>1</td>\n",
       "      <td>0</td>\n",
       "      <td>1</td>\n",
       "      <td>0</td>\n",
       "      <td>0</td>\n",
       "      <td>1</td>\n",
       "      <td>0</td>\n",
       "      <td>0</td>\n",
       "      <td>1</td>\n",
       "      <td>0</td>\n",
       "      <td>1</td>\n",
       "      <td>0</td>\n",
       "    </tr>\n",
       "    <tr>\n",
       "      <th>3</th>\n",
       "      <td>56.00</td>\n",
       "      <td>52.00</td>\n",
       "      <td>52.00</td>\n",
       "      <td>0</td>\n",
       "      <td>1</td>\n",
       "      <td>1</td>\n",
       "      <td>0</td>\n",
       "      <td>1</td>\n",
       "      <td>0</td>\n",
       "      <td>0</td>\n",
       "      <td>0</td>\n",
       "      <td>1</td>\n",
       "      <td>0</td>\n",
       "      <td>0</td>\n",
       "      <td>1</td>\n",
       "      <td>1</td>\n",
       "      <td>0</td>\n",
       "      <td>0</td>\n",
       "      <td>1</td>\n",
       "    </tr>\n",
       "    <tr>\n",
       "      <th>4</th>\n",
       "      <td>85.80</td>\n",
       "      <td>73.60</td>\n",
       "      <td>73.30</td>\n",
       "      <td>0</td>\n",
       "      <td>1</td>\n",
       "      <td>1</td>\n",
       "      <td>0</td>\n",
       "      <td>1</td>\n",
       "      <td>0</td>\n",
       "      <td>0</td>\n",
       "      <td>1</td>\n",
       "      <td>0</td>\n",
       "      <td>1</td>\n",
       "      <td>0</td>\n",
       "      <td>0</td>\n",
       "      <td>1</td>\n",
       "      <td>0</td>\n",
       "      <td>1</td>\n",
       "      <td>0</td>\n",
       "    </tr>\n",
       "  </tbody>\n",
       "</table>\n",
       "</div>"
      ],
      "text/plain": [
       "   ssc_percentage  hsc_percentage  degree_percentage  gender_F  gender_M  \\\n",
       "0           67.00           91.00              58.00         0         1   \n",
       "1           79.33           78.33              77.48         0         1   \n",
       "2           65.00           68.00              64.00         0         1   \n",
       "3           56.00           52.00              52.00         0         1   \n",
       "4           85.80           73.60              73.30         0         1   \n",
       "\n",
       "   ssc_board_Central  ssc_board_Others  hsc_board_Central  hsc_board_Others  \\\n",
       "0                  0                 1                  0                 1   \n",
       "1                  1                 0                  0                 1   \n",
       "2                  1                 0                  1                 0   \n",
       "3                  1                 0                  1                 0   \n",
       "4                  1                 0                  1                 0   \n",
       "\n",
       "   hsc_subject_Arts  hsc_subject_Commerce  hsc_subject_Science  \\\n",
       "0                 0                     1                    0   \n",
       "1                 0                     0                    1   \n",
       "2                 1                     0                    0   \n",
       "3                 0                     0                    1   \n",
       "4                 0                     1                    0   \n",
       "\n",
       "   undergrad_degree_Comm&Mgmt  undergrad_degree_Others  \\\n",
       "0                           0                        0   \n",
       "1                           0                        0   \n",
       "2                           1                        0   \n",
       "3                           0                        0   \n",
       "4                           1                        0   \n",
       "\n",
       "   undergrad_degree_Sci&Tech  work_experience_No  work_experience_Yes  \\\n",
       "0                          1                   1                    0   \n",
       "1                          1                   0                    1   \n",
       "2                          0                   1                    0   \n",
       "3                          1                   1                    0   \n",
       "4                          0                   1                    0   \n",
       "\n",
       "   specialisation_Mkt&Fin  specialisation_Mkt&HR  \n",
       "0                       0                      1  \n",
       "1                       1                      0  \n",
       "2                       1                      0  \n",
       "3                       0                      1  \n",
       "4                       1                      0  "
      ]
     },
     "execution_count": 6,
     "metadata": {},
     "output_type": "execute_result"
    }
   ],
   "source": [
    "job = pd.get_dummies(job)\n",
    "job.head()"
   ]
  },
  {
   "cell_type": "code",
   "execution_count": 7,
   "id": "d441ad55",
   "metadata": {
    "execution": {
     "iopub.execute_input": "2023-02-04T13:55:36.243343Z",
     "iopub.status.busy": "2023-02-04T13:55:36.242892Z",
     "iopub.status.idle": "2023-02-04T13:55:36.251523Z",
     "shell.execute_reply": "2023-02-04T13:55:36.250379Z"
    },
    "papermill": {
     "duration": 0.019834,
     "end_time": "2023-02-04T13:55:36.254051",
     "exception": false,
     "start_time": "2023-02-04T13:55:36.234217",
     "status": "completed"
    },
    "tags": []
   },
   "outputs": [],
   "source": [
    "x_train, x_test, y_train, y_test = train_test_split(job, target, test_size=0.3)"
   ]
  },
  {
   "cell_type": "markdown",
   "id": "4853e4b1",
   "metadata": {
    "papermill": {
     "duration": 0.007016,
     "end_time": "2023-02-04T13:55:36.268421",
     "exception": false,
     "start_time": "2023-02-04T13:55:36.261405",
     "status": "completed"
    },
    "tags": []
   },
   "source": [
    "Мне интересно посмотреть, как стандартизация будет влиять на оценку, поэтому я сравню **StandardScaler, Normalizer** и **MinMaxScaler**"
   ]
  },
  {
   "cell_type": "code",
   "execution_count": 8,
   "id": "bcc81c31",
   "metadata": {
    "execution": {
     "iopub.execute_input": "2023-02-04T13:55:36.286378Z",
     "iopub.status.busy": "2023-02-04T13:55:36.285301Z",
     "iopub.status.idle": "2023-02-04T13:55:36.290077Z",
     "shell.execute_reply": "2023-02-04T13:55:36.289226Z"
    },
    "papermill": {
     "duration": 0.01562,
     "end_time": "2023-02-04T13:55:36.292404",
     "exception": false,
     "start_time": "2023-02-04T13:55:36.276784",
     "status": "completed"
    },
    "tags": []
   },
   "outputs": [],
   "source": [
    "stand_name = (StandardScaler(), Normalizer(), MinMaxScaler())"
   ]
  },
  {
   "cell_type": "code",
   "execution_count": 9,
   "id": "824c8ca9",
   "metadata": {
    "execution": {
     "iopub.execute_input": "2023-02-04T13:55:36.309207Z",
     "iopub.status.busy": "2023-02-04T13:55:36.308585Z",
     "iopub.status.idle": "2023-02-04T13:55:41.217538Z",
     "shell.execute_reply": "2023-02-04T13:55:41.215799Z"
    },
    "papermill": {
     "duration": 4.921321,
     "end_time": "2023-02-04T13:55:41.221085",
     "exception": false,
     "start_time": "2023-02-04T13:55:36.299764",
     "status": "completed"
    },
    "tags": []
   },
   "outputs": [
    {
     "name": "stdout",
     "output_type": "stream",
     "text": [
      "**********************************************\n",
      "StandardScaler()\n",
      "              precision    recall  f1-score   support\n",
      "\n",
      "           0       0.84      0.73      0.78        22\n",
      "           1       0.87      0.93      0.90        43\n",
      "\n",
      "    accuracy                           0.86        65\n",
      "   macro avg       0.86      0.83      0.84        65\n",
      "weighted avg       0.86      0.86      0.86        65\n",
      "\n",
      "roc-auc score: 0.82875\n",
      "**********************************************\n",
      "\n",
      "**********************************************\n",
      "Normalizer()\n",
      "              precision    recall  f1-score   support\n",
      "\n",
      "           0       0.78      0.64      0.70        22\n",
      "           1       0.83      0.91      0.87        43\n",
      "\n",
      "    accuracy                           0.82        65\n",
      "   macro avg       0.80      0.77      0.78        65\n",
      "weighted avg       0.81      0.82      0.81        65\n",
      "\n",
      "roc-auc score: 0.77167\n",
      "**********************************************\n",
      "\n",
      "**********************************************\n",
      "MinMaxScaler()\n",
      "              precision    recall  f1-score   support\n",
      "\n",
      "           0       0.84      0.73      0.78        22\n",
      "           1       0.87      0.93      0.90        43\n",
      "\n",
      "    accuracy                           0.86        65\n",
      "   macro avg       0.86      0.83      0.84        65\n",
      "weighted avg       0.86      0.86      0.86        65\n",
      "\n",
      "roc-auc score: 0.82875\n",
      "**********************************************\n",
      "\n"
     ]
    }
   ],
   "source": [
    "for sn in stand_name:\n",
    "    check_st = make_pipeline(sn, CatBoostClassifier(verbose=False))\n",
    "    check_st.fit(x_train, y_train)\n",
    "    y_predict = check_st.predict(x_test)\n",
    "    \n",
    "    print('**********************************************')\n",
    "    print(sn)\n",
    "    print(classification_report(y_test, y_predict))\n",
    "    print(f'roc-auc score: {roc_auc_score(y_test,y_predict):.5f}')\n",
    "    print('**********************************************\\n')"
   ]
  },
  {
   "cell_type": "markdown",
   "id": "b8a184f9",
   "metadata": {
    "papermill": {
     "duration": 0.007232,
     "end_time": "2023-02-04T13:55:41.236270",
     "exception": false,
     "start_time": "2023-02-04T13:55:41.229038",
     "status": "completed"
    },
    "tags": []
   },
   "source": [
    "Наибольшая оценка у **StandardScaler** и **MinMaxScaler**, поэтому для работы возьму **MinMaxScaler**"
   ]
  },
  {
   "cell_type": "code",
   "execution_count": 10,
   "id": "1b44b4c2",
   "metadata": {
    "execution": {
     "iopub.execute_input": "2023-02-04T13:55:41.254269Z",
     "iopub.status.busy": "2023-02-04T13:55:41.252997Z",
     "iopub.status.idle": "2023-02-04T13:55:41.280843Z",
     "shell.execute_reply": "2023-02-04T13:55:41.279598Z"
    },
    "papermill": {
     "duration": 0.039787,
     "end_time": "2023-02-04T13:55:41.283824",
     "exception": false,
     "start_time": "2023-02-04T13:55:41.244037",
     "status": "completed"
    },
    "tags": []
   },
   "outputs": [
    {
     "data": {
      "text/html": [
       "<div>\n",
       "<style scoped>\n",
       "    .dataframe tbody tr th:only-of-type {\n",
       "        vertical-align: middle;\n",
       "    }\n",
       "\n",
       "    .dataframe tbody tr th {\n",
       "        vertical-align: top;\n",
       "    }\n",
       "\n",
       "    .dataframe thead th {\n",
       "        text-align: right;\n",
       "    }\n",
       "</style>\n",
       "<table border=\"1\" class=\"dataframe\">\n",
       "  <thead>\n",
       "    <tr style=\"text-align: right;\">\n",
       "      <th></th>\n",
       "      <th>ssc_percentage</th>\n",
       "      <th>hsc_percentage</th>\n",
       "      <th>degree_percentage</th>\n",
       "      <th>gender_F</th>\n",
       "      <th>gender_M</th>\n",
       "      <th>ssc_board_Central</th>\n",
       "      <th>ssc_board_Others</th>\n",
       "      <th>hsc_board_Central</th>\n",
       "      <th>hsc_board_Others</th>\n",
       "      <th>hsc_subject_Arts</th>\n",
       "      <th>hsc_subject_Commerce</th>\n",
       "      <th>hsc_subject_Science</th>\n",
       "      <th>undergrad_degree_Comm&amp;Mgmt</th>\n",
       "      <th>undergrad_degree_Others</th>\n",
       "      <th>undergrad_degree_Sci&amp;Tech</th>\n",
       "      <th>work_experience_No</th>\n",
       "      <th>work_experience_Yes</th>\n",
       "      <th>specialisation_Mkt&amp;Fin</th>\n",
       "      <th>specialisation_Mkt&amp;HR</th>\n",
       "    </tr>\n",
       "  </thead>\n",
       "  <tbody>\n",
       "    <tr>\n",
       "      <th>168</th>\n",
       "      <td>0.146568</td>\n",
       "      <td>0.190641</td>\n",
       "      <td>0.195122</td>\n",
       "      <td>1</td>\n",
       "      <td>0</td>\n",
       "      <td>1</td>\n",
       "      <td>0</td>\n",
       "      <td>1</td>\n",
       "      <td>0</td>\n",
       "      <td>0</td>\n",
       "      <td>1</td>\n",
       "      <td>0</td>\n",
       "      <td>1</td>\n",
       "      <td>0</td>\n",
       "      <td>0</td>\n",
       "      <td>0</td>\n",
       "      <td>1</td>\n",
       "      <td>0</td>\n",
       "      <td>1</td>\n",
       "    </tr>\n",
       "    <tr>\n",
       "      <th>87</th>\n",
       "      <td>0.385694</td>\n",
       "      <td>0.190641</td>\n",
       "      <td>0.243902</td>\n",
       "      <td>0</td>\n",
       "      <td>1</td>\n",
       "      <td>1</td>\n",
       "      <td>0</td>\n",
       "      <td>1</td>\n",
       "      <td>0</td>\n",
       "      <td>0</td>\n",
       "      <td>0</td>\n",
       "      <td>1</td>\n",
       "      <td>0</td>\n",
       "      <td>1</td>\n",
       "      <td>0</td>\n",
       "      <td>1</td>\n",
       "      <td>0</td>\n",
       "      <td>0</td>\n",
       "      <td>1</td>\n",
       "    </tr>\n",
       "    <tr>\n",
       "      <th>80</th>\n",
       "      <td>0.579468</td>\n",
       "      <td>0.381282</td>\n",
       "      <td>0.463415</td>\n",
       "      <td>1</td>\n",
       "      <td>0</td>\n",
       "      <td>0</td>\n",
       "      <td>1</td>\n",
       "      <td>0</td>\n",
       "      <td>1</td>\n",
       "      <td>0</td>\n",
       "      <td>1</td>\n",
       "      <td>0</td>\n",
       "      <td>1</td>\n",
       "      <td>0</td>\n",
       "      <td>0</td>\n",
       "      <td>0</td>\n",
       "      <td>1</td>\n",
       "      <td>0</td>\n",
       "      <td>1</td>\n",
       "    </tr>\n",
       "    <tr>\n",
       "      <th>66</th>\n",
       "      <td>0.868068</td>\n",
       "      <td>0.589255</td>\n",
       "      <td>0.390244</td>\n",
       "      <td>0</td>\n",
       "      <td>1</td>\n",
       "      <td>0</td>\n",
       "      <td>1</td>\n",
       "      <td>0</td>\n",
       "      <td>1</td>\n",
       "      <td>0</td>\n",
       "      <td>0</td>\n",
       "      <td>1</td>\n",
       "      <td>1</td>\n",
       "      <td>0</td>\n",
       "      <td>0</td>\n",
       "      <td>1</td>\n",
       "      <td>0</td>\n",
       "      <td>0</td>\n",
       "      <td>1</td>\n",
       "    </tr>\n",
       "    <tr>\n",
       "      <th>83</th>\n",
       "      <td>0.888683</td>\n",
       "      <td>0.675910</td>\n",
       "      <td>0.439024</td>\n",
       "      <td>0</td>\n",
       "      <td>1</td>\n",
       "      <td>0</td>\n",
       "      <td>1</td>\n",
       "      <td>0</td>\n",
       "      <td>1</td>\n",
       "      <td>0</td>\n",
       "      <td>0</td>\n",
       "      <td>1</td>\n",
       "      <td>0</td>\n",
       "      <td>0</td>\n",
       "      <td>1</td>\n",
       "      <td>0</td>\n",
       "      <td>1</td>\n",
       "      <td>1</td>\n",
       "      <td>0</td>\n",
       "    </tr>\n",
       "  </tbody>\n",
       "</table>\n",
       "</div>"
      ],
      "text/plain": [
       "     ssc_percentage  hsc_percentage  degree_percentage  gender_F  gender_M  \\\n",
       "168        0.146568        0.190641           0.195122         1         0   \n",
       "87         0.385694        0.190641           0.243902         0         1   \n",
       "80         0.579468        0.381282           0.463415         1         0   \n",
       "66         0.868068        0.589255           0.390244         0         1   \n",
       "83         0.888683        0.675910           0.439024         0         1   \n",
       "\n",
       "     ssc_board_Central  ssc_board_Others  hsc_board_Central  hsc_board_Others  \\\n",
       "168                  1                 0                  1                 0   \n",
       "87                   1                 0                  1                 0   \n",
       "80                   0                 1                  0                 1   \n",
       "66                   0                 1                  0                 1   \n",
       "83                   0                 1                  0                 1   \n",
       "\n",
       "     hsc_subject_Arts  hsc_subject_Commerce  hsc_subject_Science  \\\n",
       "168                 0                     1                    0   \n",
       "87                  0                     0                    1   \n",
       "80                  0                     1                    0   \n",
       "66                  0                     0                    1   \n",
       "83                  0                     0                    1   \n",
       "\n",
       "     undergrad_degree_Comm&Mgmt  undergrad_degree_Others  \\\n",
       "168                           1                        0   \n",
       "87                            0                        1   \n",
       "80                            1                        0   \n",
       "66                            1                        0   \n",
       "83                            0                        0   \n",
       "\n",
       "     undergrad_degree_Sci&Tech  work_experience_No  work_experience_Yes  \\\n",
       "168                          0                   0                    1   \n",
       "87                           0                   1                    0   \n",
       "80                           0                   0                    1   \n",
       "66                           0                   1                    0   \n",
       "83                           1                   0                    1   \n",
       "\n",
       "     specialisation_Mkt&Fin  specialisation_Mkt&HR  \n",
       "168                       0                      1  \n",
       "87                        0                      1  \n",
       "80                        0                      1  \n",
       "66                        0                      1  \n",
       "83                        1                      0  "
      ]
     },
     "execution_count": 10,
     "metadata": {},
     "output_type": "execute_result"
    }
   ],
   "source": [
    "nm = ['ssc_percentage','hsc_percentage','degree_percentage']\n",
    "sc = MinMaxScaler()\n",
    "x_train[nm] = sc.fit_transform(x_train[nm])\n",
    "x_test[nm] = sc.fit_transform(x_test[nm])\n",
    "x_train.head()"
   ]
  },
  {
   "cell_type": "code",
   "execution_count": 11,
   "id": "33ad7180",
   "metadata": {
    "execution": {
     "iopub.execute_input": "2023-02-04T13:55:41.303320Z",
     "iopub.status.busy": "2023-02-04T13:55:41.301342Z",
     "iopub.status.idle": "2023-02-04T13:56:34.999633Z",
     "shell.execute_reply": "2023-02-04T13:56:34.998472Z"
    },
    "papermill": {
     "duration": 53.716544,
     "end_time": "2023-02-04T13:56:35.008519",
     "exception": false,
     "start_time": "2023-02-04T13:55:41.291975",
     "status": "completed"
    },
    "tags": []
   },
   "outputs": [
    {
     "data": {
      "text/plain": [
       "{'depth': 4, 'iterations': 400}"
      ]
     },
     "execution_count": 11,
     "metadata": {},
     "output_type": "execute_result"
    }
   ],
   "source": [
    "cbc1 = CatBoostClassifier(verbose=False)\n",
    "params = {'iterations': range(100,501,100),\n",
    "          'depth': range(2,8)}\n",
    "gs = GridSearchCV(cbc1, params)\n",
    "gs.fit(x_train, y_train)\n",
    "gs.best_params_"
   ]
  },
  {
   "cell_type": "markdown",
   "id": "4c59d1ec",
   "metadata": {
    "papermill": {
     "duration": 0.007603,
     "end_time": "2023-02-04T13:56:35.024173",
     "exception": false,
     "start_time": "2023-02-04T13:56:35.016570",
     "status": "completed"
    },
    "tags": []
   },
   "source": [
    "Использую GridSearchCV для подбора параметров классфикатора. Честно говоря, я не очень довольна, что параметр **depth** равен 2. Вполне возможно это происходит из-за малого объема данных"
   ]
  },
  {
   "cell_type": "code",
   "execution_count": 12,
   "id": "159e3242",
   "metadata": {
    "execution": {
     "iopub.execute_input": "2023-02-04T13:56:35.041925Z",
     "iopub.status.busy": "2023-02-04T13:56:35.041503Z",
     "iopub.status.idle": "2023-02-04T13:56:35.177493Z",
     "shell.execute_reply": "2023-02-04T13:56:35.175801Z"
    },
    "papermill": {
     "duration": 0.149252,
     "end_time": "2023-02-04T13:56:35.181283",
     "exception": false,
     "start_time": "2023-02-04T13:56:35.032031",
     "status": "completed"
    },
    "tags": []
   },
   "outputs": [
    {
     "name": "stdout",
     "output_type": "stream",
     "text": [
      "              precision    recall  f1-score   support\n",
      "\n",
      "           0       0.94      0.68      0.79        22\n",
      "           1       0.86      0.98      0.91        43\n",
      "\n",
      "    accuracy                           0.88        65\n",
      "   macro avg       0.90      0.83      0.85        65\n",
      "weighted avg       0.88      0.88      0.87        65\n",
      "\n",
      "roc-auc score: 0.82928\n"
     ]
    }
   ],
   "source": [
    "cbc2 = CatBoostClassifier(iterations=200, depth=2, verbose=False)\n",
    "cbc2.fit(x_train, y_train)\n",
    "y_predict = cbc2.predict(x_test)\n",
    "print(classification_report(y_test, y_predict))\n",
    "print(f'roc-auc score: {roc_auc_score(y_test,y_predict):.5f}')"
   ]
  },
  {
   "cell_type": "code",
   "execution_count": 13,
   "id": "2e122176",
   "metadata": {
    "execution": {
     "iopub.execute_input": "2023-02-04T13:56:35.200107Z",
     "iopub.status.busy": "2023-02-04T13:56:35.199670Z",
     "iopub.status.idle": "2023-02-04T13:56:35.400684Z",
     "shell.execute_reply": "2023-02-04T13:56:35.399872Z"
    },
    "papermill": {
     "duration": 0.213347,
     "end_time": "2023-02-04T13:56:35.403000",
     "exception": false,
     "start_time": "2023-02-04T13:56:35.189653",
     "status": "completed"
    },
    "tags": []
   },
   "outputs": [
    {
     "data": {
      "image/png": "[encoded data removed]",
      "text/plain": [
       "<Figure size 432x288 with 1 Axes>"
      ]
     },
     "metadata": {
      "needs_background": "light"
     },
     "output_type": "display_data"
    }
   ],
   "source": [
    "fpr, tpr, thresholds = roc_curve(y_test,cbc2.predict_proba(x_test)[:,1], pos_label=1)\n",
    "plt.plot(fpr, tpr, lw=2, label='ROC curve')\n",
    "plt.plot([0,1], [0,1])\n",
    "plt.xlim([0.0, 1.0])\n",
    "plt.ylim([0.0, 1.05])\n",
    "plt.xlabel('False Positive Rate')\n",
    "plt.ylabel('True Positive Rate')\n",
    "plt.title('ROC curve')\n",
    "plt.show()"
   ]
  },
  {
   "cell_type": "markdown",
   "id": "87bb9364",
   "metadata": {
    "papermill": {
     "duration": 0.008255,
     "end_time": "2023-02-04T13:56:35.419754",
     "exception": false,
     "start_time": "2023-02-04T13:56:35.411499",
     "status": "completed"
    },
    "tags": []
   },
   "source": [
    "Так же интресно посмотреть на значимость каждого столбца"
   ]
  },
  {
   "cell_type": "code",
   "execution_count": 14,
   "id": "77e12360",
   "metadata": {
    "execution": {
     "iopub.execute_input": "2023-02-04T13:56:35.438833Z",
     "iopub.status.busy": "2023-02-04T13:56:35.438213Z",
     "iopub.status.idle": "2023-02-04T13:56:35.451513Z",
     "shell.execute_reply": "2023-02-04T13:56:35.450383Z"
    },
    "papermill": {
     "duration": 0.025853,
     "end_time": "2023-02-04T13:56:35.454035",
     "exception": false,
     "start_time": "2023-02-04T13:56:35.428182",
     "status": "completed"
    },
    "tags": []
   },
   "outputs": [
    {
     "data": {
      "text/html": [
       "<div>\n",
       "<style scoped>\n",
       "    .dataframe tbody tr th:only-of-type {\n",
       "        vertical-align: middle;\n",
       "    }\n",
       "\n",
       "    .dataframe tbody tr th {\n",
       "        vertical-align: top;\n",
       "    }\n",
       "\n",
       "    .dataframe thead th {\n",
       "        text-align: right;\n",
       "    }\n",
       "</style>\n",
       "<table border=\"1\" class=\"dataframe\">\n",
       "  <thead>\n",
       "    <tr style=\"text-align: right;\">\n",
       "      <th></th>\n",
       "      <th>feature_name</th>\n",
       "      <th>importance</th>\n",
       "    </tr>\n",
       "  </thead>\n",
       "  <tbody>\n",
       "    <tr>\n",
       "      <th>0</th>\n",
       "      <td>ssc_percentage</td>\n",
       "      <td>29.211575</td>\n",
       "    </tr>\n",
       "    <tr>\n",
       "      <th>1</th>\n",
       "      <td>hsc_percentage</td>\n",
       "      <td>26.812770</td>\n",
       "    </tr>\n",
       "    <tr>\n",
       "      <th>2</th>\n",
       "      <td>degree_percentage</td>\n",
       "      <td>23.560926</td>\n",
       "    </tr>\n",
       "    <tr>\n",
       "      <th>3</th>\n",
       "      <td>gender_F</td>\n",
       "      <td>4.028283</td>\n",
       "    </tr>\n",
       "    <tr>\n",
       "      <th>16</th>\n",
       "      <td>work_experience_Yes</td>\n",
       "      <td>3.561355</td>\n",
       "    </tr>\n",
       "    <tr>\n",
       "      <th>15</th>\n",
       "      <td>work_experience_No</td>\n",
       "      <td>3.027869</td>\n",
       "    </tr>\n",
       "    <tr>\n",
       "      <th>4</th>\n",
       "      <td>gender_M</td>\n",
       "      <td>2.729602</td>\n",
       "    </tr>\n",
       "    <tr>\n",
       "      <th>18</th>\n",
       "      <td>specialisation_Mkt&amp;HR</td>\n",
       "      <td>1.817991</td>\n",
       "    </tr>\n",
       "    <tr>\n",
       "      <th>17</th>\n",
       "      <td>specialisation_Mkt&amp;Fin</td>\n",
       "      <td>1.778634</td>\n",
       "    </tr>\n",
       "    <tr>\n",
       "      <th>5</th>\n",
       "      <td>ssc_board_Central</td>\n",
       "      <td>1.046536</td>\n",
       "    </tr>\n",
       "    <tr>\n",
       "      <th>6</th>\n",
       "      <td>ssc_board_Others</td>\n",
       "      <td>0.726653</td>\n",
       "    </tr>\n",
       "    <tr>\n",
       "      <th>12</th>\n",
       "      <td>undergrad_degree_Comm&amp;Mgmt</td>\n",
       "      <td>0.476392</td>\n",
       "    </tr>\n",
       "    <tr>\n",
       "      <th>10</th>\n",
       "      <td>hsc_subject_Commerce</td>\n",
       "      <td>0.409863</td>\n",
       "    </tr>\n",
       "    <tr>\n",
       "      <th>8</th>\n",
       "      <td>hsc_board_Others</td>\n",
       "      <td>0.329758</td>\n",
       "    </tr>\n",
       "    <tr>\n",
       "      <th>7</th>\n",
       "      <td>hsc_board_Central</td>\n",
       "      <td>0.257438</td>\n",
       "    </tr>\n",
       "    <tr>\n",
       "      <th>14</th>\n",
       "      <td>undergrad_degree_Sci&amp;Tech</td>\n",
       "      <td>0.173154</td>\n",
       "    </tr>\n",
       "    <tr>\n",
       "      <th>9</th>\n",
       "      <td>hsc_subject_Arts</td>\n",
       "      <td>0.028759</td>\n",
       "    </tr>\n",
       "    <tr>\n",
       "      <th>13</th>\n",
       "      <td>undergrad_degree_Others</td>\n",
       "      <td>0.022443</td>\n",
       "    </tr>\n",
       "    <tr>\n",
       "      <th>11</th>\n",
       "      <td>hsc_subject_Science</td>\n",
       "      <td>0.000000</td>\n",
       "    </tr>\n",
       "  </tbody>\n",
       "</table>\n",
       "</div>"
      ],
      "text/plain": [
       "                  feature_name  importance\n",
       "0               ssc_percentage   29.211575\n",
       "1               hsc_percentage   26.812770\n",
       "2            degree_percentage   23.560926\n",
       "3                     gender_F    4.028283\n",
       "16         work_experience_Yes    3.561355\n",
       "15          work_experience_No    3.027869\n",
       "4                     gender_M    2.729602\n",
       "18       specialisation_Mkt&HR    1.817991\n",
       "17      specialisation_Mkt&Fin    1.778634\n",
       "5            ssc_board_Central    1.046536\n",
       "6             ssc_board_Others    0.726653\n",
       "12  undergrad_degree_Comm&Mgmt    0.476392\n",
       "10        hsc_subject_Commerce    0.409863\n",
       "8             hsc_board_Others    0.329758\n",
       "7            hsc_board_Central    0.257438\n",
       "14   undergrad_degree_Sci&Tech    0.173154\n",
       "9             hsc_subject_Arts    0.028759\n",
       "13     undergrad_degree_Others    0.022443\n",
       "11         hsc_subject_Science    0.000000"
      ]
     },
     "execution_count": 14,
     "metadata": {},
     "output_type": "execute_result"
    }
   ],
   "source": [
    "new_df = pd.DataFrame(data={'feature_name':cbc2.feature_names_,\n",
    "                            'importance':cbc2.feature_importances_})\\\n",
    ".sort_values(by='importance', ascending=False)\n",
    "new_df"
   ]
  },
  {
   "cell_type": "markdown",
   "id": "2c3c9bce",
   "metadata": {
    "papermill": {
     "duration": 0.00883,
     "end_time": "2023-02-04T13:56:35.471655",
     "exception": false,
     "start_time": "2023-02-04T13:56:35.462825",
     "status": "completed"
    },
    "tags": []
   },
   "source": [
    "Как видно, есть столбцы с не высоким влиянием на результат классификации, поэтому выберу 80% наиболее значимых параметров "
   ]
  },
  {
   "cell_type": "code",
   "execution_count": 15,
   "id": "c43c601a",
   "metadata": {
    "execution": {
     "iopub.execute_input": "2023-02-04T13:56:35.490899Z",
     "iopub.status.busy": "2023-02-04T13:56:35.490491Z",
     "iopub.status.idle": "2023-02-04T13:56:35.502670Z",
     "shell.execute_reply": "2023-02-04T13:56:35.501353Z"
    },
    "papermill": {
     "duration": 0.02454,
     "end_time": "2023-02-04T13:56:35.504910",
     "exception": false,
     "start_time": "2023-02-04T13:56:35.480370",
     "status": "completed"
    },
    "tags": []
   },
   "outputs": [
    {
     "data": {
      "text/html": [
       "<div>\n",
       "<style scoped>\n",
       "    .dataframe tbody tr th:only-of-type {\n",
       "        vertical-align: middle;\n",
       "    }\n",
       "\n",
       "    .dataframe tbody tr th {\n",
       "        vertical-align: top;\n",
       "    }\n",
       "\n",
       "    .dataframe thead th {\n",
       "        text-align: right;\n",
       "    }\n",
       "</style>\n",
       "<table border=\"1\" class=\"dataframe\">\n",
       "  <thead>\n",
       "    <tr style=\"text-align: right;\">\n",
       "      <th></th>\n",
       "      <th>feature_name</th>\n",
       "      <th>importance</th>\n",
       "    </tr>\n",
       "  </thead>\n",
       "  <tbody>\n",
       "    <tr>\n",
       "      <th>0</th>\n",
       "      <td>ssc_percentage</td>\n",
       "      <td>29.211575</td>\n",
       "    </tr>\n",
       "    <tr>\n",
       "      <th>1</th>\n",
       "      <td>hsc_percentage</td>\n",
       "      <td>26.812770</td>\n",
       "    </tr>\n",
       "    <tr>\n",
       "      <th>2</th>\n",
       "      <td>degree_percentage</td>\n",
       "      <td>23.560926</td>\n",
       "    </tr>\n",
       "    <tr>\n",
       "      <th>3</th>\n",
       "      <td>gender_F</td>\n",
       "      <td>4.028283</td>\n",
       "    </tr>\n",
       "    <tr>\n",
       "      <th>16</th>\n",
       "      <td>work_experience_Yes</td>\n",
       "      <td>3.561355</td>\n",
       "    </tr>\n",
       "    <tr>\n",
       "      <th>15</th>\n",
       "      <td>work_experience_No</td>\n",
       "      <td>3.027869</td>\n",
       "    </tr>\n",
       "    <tr>\n",
       "      <th>4</th>\n",
       "      <td>gender_M</td>\n",
       "      <td>2.729602</td>\n",
       "    </tr>\n",
       "    <tr>\n",
       "      <th>18</th>\n",
       "      <td>specialisation_Mkt&amp;HR</td>\n",
       "      <td>1.817991</td>\n",
       "    </tr>\n",
       "    <tr>\n",
       "      <th>17</th>\n",
       "      <td>specialisation_Mkt&amp;Fin</td>\n",
       "      <td>1.778634</td>\n",
       "    </tr>\n",
       "    <tr>\n",
       "      <th>5</th>\n",
       "      <td>ssc_board_Central</td>\n",
       "      <td>1.046536</td>\n",
       "    </tr>\n",
       "    <tr>\n",
       "      <th>6</th>\n",
       "      <td>ssc_board_Others</td>\n",
       "      <td>0.726653</td>\n",
       "    </tr>\n",
       "    <tr>\n",
       "      <th>12</th>\n",
       "      <td>undergrad_degree_Comm&amp;Mgmt</td>\n",
       "      <td>0.476392</td>\n",
       "    </tr>\n",
       "    <tr>\n",
       "      <th>10</th>\n",
       "      <td>hsc_subject_Commerce</td>\n",
       "      <td>0.409863</td>\n",
       "    </tr>\n",
       "    <tr>\n",
       "      <th>8</th>\n",
       "      <td>hsc_board_Others</td>\n",
       "      <td>0.329758</td>\n",
       "    </tr>\n",
       "    <tr>\n",
       "      <th>7</th>\n",
       "      <td>hsc_board_Central</td>\n",
       "      <td>0.257438</td>\n",
       "    </tr>\n",
       "  </tbody>\n",
       "</table>\n",
       "</div>"
      ],
      "text/plain": [
       "                  feature_name  importance\n",
       "0               ssc_percentage   29.211575\n",
       "1               hsc_percentage   26.812770\n",
       "2            degree_percentage   23.560926\n",
       "3                     gender_F    4.028283\n",
       "16         work_experience_Yes    3.561355\n",
       "15          work_experience_No    3.027869\n",
       "4                     gender_M    2.729602\n",
       "18       specialisation_Mkt&HR    1.817991\n",
       "17      specialisation_Mkt&Fin    1.778634\n",
       "5            ssc_board_Central    1.046536\n",
       "6             ssc_board_Others    0.726653\n",
       "12  undergrad_degree_Comm&Mgmt    0.476392\n",
       "10        hsc_subject_Commerce    0.409863\n",
       "8             hsc_board_Others    0.329758\n",
       "7            hsc_board_Central    0.257438"
      ]
     },
     "execution_count": 15,
     "metadata": {},
     "output_type": "execute_result"
    }
   ],
   "source": [
    "per80 = round(len(new_df)*0.8)\n",
    "max80 = new_df.head(per80)\n",
    "max80"
   ]
  },
  {
   "cell_type": "markdown",
   "id": "9e97ddee",
   "metadata": {
    "papermill": {
     "duration": 0.008734,
     "end_time": "2023-02-04T13:56:35.522781",
     "exception": false,
     "start_time": "2023-02-04T13:56:35.514047",
     "status": "completed"
    },
    "tags": []
   },
   "source": [
    "Строю новую модель, но уже с отобранными ранее параметрами. Оценка ожидаемо повысилась"
   ]
  },
  {
   "cell_type": "code",
   "execution_count": 16,
   "id": "dd06feba",
   "metadata": {
    "execution": {
     "iopub.execute_input": "2023-02-04T13:56:35.542518Z",
     "iopub.status.busy": "2023-02-04T13:56:35.542091Z",
     "iopub.status.idle": "2023-02-04T13:56:35.653818Z",
     "shell.execute_reply": "2023-02-04T13:56:35.652209Z"
    },
    "papermill": {
     "duration": 0.125256,
     "end_time": "2023-02-04T13:56:35.656989",
     "exception": false,
     "start_time": "2023-02-04T13:56:35.531733",
     "status": "completed"
    },
    "tags": []
   },
   "outputs": [
    {
     "name": "stdout",
     "output_type": "stream",
     "text": [
      "              precision    recall  f1-score   support\n",
      "\n",
      "           0       0.94      0.68      0.79        22\n",
      "           1       0.86      0.98      0.91        43\n",
      "\n",
      "    accuracy                           0.88        65\n",
      "   macro avg       0.90      0.83      0.85        65\n",
      "weighted avg       0.88      0.88      0.87        65\n",
      "\n",
      "roc-auc score: 0.82928\n"
     ]
    }
   ],
   "source": [
    "cbc3 = CatBoostClassifier(iterations=200, depth=2, verbose=False)\n",
    "cbc3.fit(x_train[max80.feature_name], y_train)\n",
    "y_predict3 = cbc3.predict(x_test[max80.feature_name])\n",
    "print(classification_report(y_test, y_predict3))\n",
    "print(f'roc-auc score: {roc_auc_score(y_test,y_predict3):.5f}')"
   ]
  },
  {
   "cell_type": "code",
   "execution_count": 17,
   "id": "96d1ab21",
   "metadata": {
    "execution": {
     "iopub.execute_input": "2023-02-04T13:56:35.677424Z",
     "iopub.status.busy": "2023-02-04T13:56:35.676775Z",
     "iopub.status.idle": "2023-02-04T13:56:35.879682Z",
     "shell.execute_reply": "2023-02-04T13:56:35.878503Z"
    },
    "papermill": {
     "duration": 0.215588,
     "end_time": "2023-02-04T13:56:35.882007",
     "exception": false,
     "start_time": "2023-02-04T13:56:35.666419",
     "status": "completed"
    },
    "tags": []
   },
   "outputs": [
    {
     "data": {
      "image/png": "[encoded data removed]",
      "text/plain": [
       "<Figure size 432x288 with 1 Axes>"
      ]
     },
     "metadata": {
      "needs_background": "light"
     },
     "output_type": "display_data"
    }
   ],
   "source": [
    "y_predict_proba3 = cbc3.predict_proba(x_test[max80.feature_name])[:,1]\n",
    "fpr, tpr, thresholds = roc_curve(y_test,y_predict_proba3, pos_label=1)\n",
    "plt.plot(fpr, tpr, lw=2, label='ROC curve')\n",
    "plt.plot([0,1], [0,1])\n",
    "plt.xlim([0.0, 1.0])\n",
    "plt.ylim([0.0, 1.05])\n",
    "plt.xlabel('False Positive Rate')\n",
    "plt.ylabel('True Positive Rate')\n",
    "plt.title('ROC curve')\n",
    "plt.show()"
   ]
  }
 ],
 "metadata": {
  "kernelspec": {
   "display_name": "Python 3",
   "language": "python",
   "name": "python3"
  },
  "language_info": {
   "codemirror_mode": {
    "name": "ipython",
    "version": 3
   },
   "file_extension": ".py",
   "mimetype": "text/x-python",
   "name": "python",
   "nbconvert_exporter": "python",
   "pygments_lexer": "ipython3",
   "version": "3.7.12"
  },
  "papermill": {
   "default_parameters": {},
   "duration": 85.498304,
   "end_time": "2023-02-04T13:56:36.815030",
   "environment_variables": {},
   "exception": null,
   "input_path": "__notebook__.ipynb",
   "output_path": "__notebook__.ipynb",
   "parameters": {},
   "start_time": "2023-02-04T13:55:11.316726",
   "version": "2.3.4"
  }
 },
 "nbformat": 4,
 "nbformat_minor": 5
}
