{
 "cells": [
  {
   "cell_type": "code",
   "execution_count": 1,
   "id": "c92752c5",
   "metadata": {
    "_cell_guid": "b1076dfc-b9ad-4769-8c92-a6c4dae69d19",
    "_uuid": "8f2839f25d086af736a60e9eeb907d3b93b6e0e5",
    "execution": {
     "iopub.execute_input": "2023-01-19T16:09:00.868533Z",
     "iopub.status.busy": "2023-01-19T16:09:00.867768Z",
     "iopub.status.idle": "2023-01-19T16:09:02.301927Z",
     "shell.execute_reply": "2023-01-19T16:09:02.300787Z"
    },
    "papermill": {
     "duration": 1.444965,
     "end_time": "2023-01-19T16:09:02.304506",
     "exception": false,
     "start_time": "2023-01-19T16:09:00.859541",
     "status": "completed"
    },
    "tags": []
   },
   "outputs": [],
   "source": [
    "# This Python 3 environment comes with many helpful analytics libraries installed\n",
    "# It is defined by the kaggle/python Docker image: https://github.com/kaggle/docker-python\n",
    "# For example, here's several helpful packages to load\n",
    "\n",
    "import numpy as np # linear algebra\n",
    "import pandas as pd # data processing, CSV file I/O (e.g. pd.read_csv)\n",
    "import seaborn as sns\n",
    "import matplotlib.pyplot as plt\n",
    "from sklearn.impute import SimpleImputer\n",
    "from sklearn.model_selection import train_test_split\n",
    "from sklearn.metrics import confusion_matrix, accuracy_score, f1_score, roc_curve, auc\n",
    "from sklearn.preprocessing import MinMaxScaler\n",
    "# from sklearn.preprocessing import OneHotEncoder\n",
    "\n",
    "# Input data files are available in the read-only \"../input/\" directory\n",
    "# For example, running this (by clicking run or pressing Shift+Enter) will list all files under the input directory\n",
    "\n",
    "\n",
    "# You can write up to 20GB to the current directory (/kaggle/working/) that gets preserved as output when you create a version using \"Save & Run All\" \n",
    "# You can also write temporary files to /kaggle/temp/, but they won't be saved outside of the current session"
   ]
  },
  {
   "cell_type": "code",
   "execution_count": 2,
   "id": "25417c98",
   "metadata": {
    "execution": {
     "iopub.execute_input": "2023-01-19T16:09:02.318394Z",
     "iopub.status.busy": "2023-01-19T16:09:02.317986Z",
     "iopub.status.idle": "2023-01-19T16:09:02.393047Z",
     "shell.execute_reply": "2023-01-19T16:09:02.390885Z"
    },
    "papermill": {
     "duration": 0.085407,
     "end_time": "2023-01-19T16:09:02.396081",
     "exception": false,
     "start_time": "2023-01-19T16:09:02.310674",
     "status": "completed"
    },
    "tags": []
   },
   "outputs": [
    {
     "name": "stdout",
     "output_type": "stream",
     "text": [
      "(8693, 14)\n"
     ]
    },
    {
     "data": {
      "text/html": [
       "<div>\n",
       "<style scoped>\n",
       "    .dataframe tbody tr th:only-of-type {\n",
       "        vertical-align: middle;\n",
       "    }\n",
       "\n",
       "    .dataframe tbody tr th {\n",
       "        vertical-align: top;\n",
       "    }\n",
       "\n",
       "    .dataframe thead th {\n",
       "        text-align: right;\n",
       "    }\n",
       "</style>\n",
       "<table border=\"1\" class=\"dataframe\">\n",
       "  <thead>\n",
       "    <tr style=\"text-align: right;\">\n",
       "      <th></th>\n",
       "      <th>PassengerId</th>\n",
       "      <th>HomePlanet</th>\n",
       "      <th>CryoSleep</th>\n",
       "      <th>Cabin</th>\n",
       "      <th>Destination</th>\n",
       "      <th>Age</th>\n",
       "      <th>VIP</th>\n",
       "      <th>RoomService</th>\n",
       "      <th>FoodCourt</th>\n",
       "      <th>ShoppingMall</th>\n",
       "      <th>Spa</th>\n",
       "      <th>VRDeck</th>\n",
       "      <th>Name</th>\n",
       "      <th>Transported</th>\n",
       "    </tr>\n",
       "  </thead>\n",
       "  <tbody>\n",
       "    <tr>\n",
       "      <th>0</th>\n",
       "      <td>0001_01</td>\n",
       "      <td>Europa</td>\n",
       "      <td>False</td>\n",
       "      <td>B/0/P</td>\n",
       "      <td>TRAPPIST-1e</td>\n",
       "      <td>39.0</td>\n",
       "      <td>False</td>\n",
       "      <td>0.0</td>\n",
       "      <td>0.0</td>\n",
       "      <td>0.0</td>\n",
       "      <td>0.0</td>\n",
       "      <td>0.0</td>\n",
       "      <td>Maham Ofracculy</td>\n",
       "      <td>False</td>\n",
       "    </tr>\n",
       "    <tr>\n",
       "      <th>1</th>\n",
       "      <td>0002_01</td>\n",
       "      <td>Earth</td>\n",
       "      <td>False</td>\n",
       "      <td>F/0/S</td>\n",
       "      <td>TRAPPIST-1e</td>\n",
       "      <td>24.0</td>\n",
       "      <td>False</td>\n",
       "      <td>109.0</td>\n",
       "      <td>9.0</td>\n",
       "      <td>25.0</td>\n",
       "      <td>549.0</td>\n",
       "      <td>44.0</td>\n",
       "      <td>Juanna Vines</td>\n",
       "      <td>True</td>\n",
       "    </tr>\n",
       "    <tr>\n",
       "      <th>2</th>\n",
       "      <td>0003_01</td>\n",
       "      <td>Europa</td>\n",
       "      <td>False</td>\n",
       "      <td>A/0/S</td>\n",
       "      <td>TRAPPIST-1e</td>\n",
       "      <td>58.0</td>\n",
       "      <td>True</td>\n",
       "      <td>43.0</td>\n",
       "      <td>3576.0</td>\n",
       "      <td>0.0</td>\n",
       "      <td>6715.0</td>\n",
       "      <td>49.0</td>\n",
       "      <td>Altark Susent</td>\n",
       "      <td>False</td>\n",
       "    </tr>\n",
       "    <tr>\n",
       "      <th>3</th>\n",
       "      <td>0003_02</td>\n",
       "      <td>Europa</td>\n",
       "      <td>False</td>\n",
       "      <td>A/0/S</td>\n",
       "      <td>TRAPPIST-1e</td>\n",
       "      <td>33.0</td>\n",
       "      <td>False</td>\n",
       "      <td>0.0</td>\n",
       "      <td>1283.0</td>\n",
       "      <td>371.0</td>\n",
       "      <td>3329.0</td>\n",
       "      <td>193.0</td>\n",
       "      <td>Solam Susent</td>\n",
       "      <td>False</td>\n",
       "    </tr>\n",
       "    <tr>\n",
       "      <th>4</th>\n",
       "      <td>0004_01</td>\n",
       "      <td>Earth</td>\n",
       "      <td>False</td>\n",
       "      <td>F/1/S</td>\n",
       "      <td>TRAPPIST-1e</td>\n",
       "      <td>16.0</td>\n",
       "      <td>False</td>\n",
       "      <td>303.0</td>\n",
       "      <td>70.0</td>\n",
       "      <td>151.0</td>\n",
       "      <td>565.0</td>\n",
       "      <td>2.0</td>\n",
       "      <td>Willy Santantines</td>\n",
       "      <td>True</td>\n",
       "    </tr>\n",
       "  </tbody>\n",
       "</table>\n",
       "</div>"
      ],
      "text/plain": [
       "  PassengerId HomePlanet CryoSleep  Cabin  Destination   Age    VIP  \\\n",
       "0     0001_01     Europa     False  B/0/P  TRAPPIST-1e  39.0  False   \n",
       "1     0002_01      Earth     False  F/0/S  TRAPPIST-1e  24.0  False   \n",
       "2     0003_01     Europa     False  A/0/S  TRAPPIST-1e  58.0   True   \n",
       "3     0003_02     Europa     False  A/0/S  TRAPPIST-1e  33.0  False   \n",
       "4     0004_01      Earth     False  F/1/S  TRAPPIST-1e  16.0  False   \n",
       "\n",
       "   RoomService  FoodCourt  ShoppingMall     Spa  VRDeck               Name  \\\n",
       "0          0.0        0.0           0.0     0.0     0.0    Maham Ofracculy   \n",
       "1        109.0        9.0          25.0   549.0    44.0       Juanna Vines   \n",
       "2         43.0     3576.0           0.0  6715.0    49.0      Altark Susent   \n",
       "3          0.0     1283.0         371.0  3329.0   193.0       Solam Susent   \n",
       "4        303.0       70.0         151.0   565.0     2.0  Willy Santantines   \n",
       "\n",
       "   Transported  \n",
       "0        False  \n",
       "1         True  \n",
       "2        False  \n",
       "3        False  \n",
       "4         True  "
      ]
     },
     "execution_count": 2,
     "metadata": {},
     "output_type": "execute_result"
    }
   ],
   "source": [
    "train = pd.read_csv('/kaggle/input/spaceship-titanic/train.csv')\n",
    "print(train.shape)\n",
    "train.head()"
   ]
  },
  {
   "cell_type": "code",
   "execution_count": 3,
   "id": "b5ebd2ec",
   "metadata": {
    "execution": {
     "iopub.execute_input": "2023-01-19T16:09:02.410625Z",
     "iopub.status.busy": "2023-01-19T16:09:02.410240Z",
     "iopub.status.idle": "2023-01-19T16:09:02.438721Z",
     "shell.execute_reply": "2023-01-19T16:09:02.437624Z"
    },
    "papermill": {
     "duration": 0.038724,
     "end_time": "2023-01-19T16:09:02.441223",
     "exception": false,
     "start_time": "2023-01-19T16:09:02.402499",
     "status": "completed"
    },
    "tags": []
   },
   "outputs": [
    {
     "data": {
      "text/html": [
       "<div>\n",
       "<style scoped>\n",
       "    .dataframe tbody tr th:only-of-type {\n",
       "        vertical-align: middle;\n",
       "    }\n",
       "\n",
       "    .dataframe tbody tr th {\n",
       "        vertical-align: top;\n",
       "    }\n",
       "\n",
       "    .dataframe thead th {\n",
       "        text-align: right;\n",
       "    }\n",
       "</style>\n",
       "<table border=\"1\" class=\"dataframe\">\n",
       "  <thead>\n",
       "    <tr style=\"text-align: right;\">\n",
       "      <th></th>\n",
       "      <th>PassengerId</th>\n",
       "      <th>HomePlanet</th>\n",
       "      <th>CryoSleep</th>\n",
       "      <th>Cabin</th>\n",
       "      <th>Destination</th>\n",
       "      <th>Age</th>\n",
       "      <th>VIP</th>\n",
       "      <th>RoomService</th>\n",
       "      <th>FoodCourt</th>\n",
       "      <th>ShoppingMall</th>\n",
       "      <th>Spa</th>\n",
       "      <th>VRDeck</th>\n",
       "      <th>Name</th>\n",
       "    </tr>\n",
       "  </thead>\n",
       "  <tbody>\n",
       "    <tr>\n",
       "      <th>0</th>\n",
       "      <td>0001_01</td>\n",
       "      <td>Europa</td>\n",
       "      <td>False</td>\n",
       "      <td>B/0/P</td>\n",
       "      <td>TRAPPIST-1e</td>\n",
       "      <td>39.0</td>\n",
       "      <td>False</td>\n",
       "      <td>0.0</td>\n",
       "      <td>0.0</td>\n",
       "      <td>0.0</td>\n",
       "      <td>0.0</td>\n",
       "      <td>0.0</td>\n",
       "      <td>Maham Ofracculy</td>\n",
       "    </tr>\n",
       "    <tr>\n",
       "      <th>1</th>\n",
       "      <td>0002_01</td>\n",
       "      <td>Earth</td>\n",
       "      <td>False</td>\n",
       "      <td>F/0/S</td>\n",
       "      <td>TRAPPIST-1e</td>\n",
       "      <td>24.0</td>\n",
       "      <td>False</td>\n",
       "      <td>109.0</td>\n",
       "      <td>9.0</td>\n",
       "      <td>25.0</td>\n",
       "      <td>549.0</td>\n",
       "      <td>44.0</td>\n",
       "      <td>Juanna Vines</td>\n",
       "    </tr>\n",
       "    <tr>\n",
       "      <th>2</th>\n",
       "      <td>0003_01</td>\n",
       "      <td>Europa</td>\n",
       "      <td>False</td>\n",
       "      <td>A/0/S</td>\n",
       "      <td>TRAPPIST-1e</td>\n",
       "      <td>58.0</td>\n",
       "      <td>True</td>\n",
       "      <td>43.0</td>\n",
       "      <td>3576.0</td>\n",
       "      <td>0.0</td>\n",
       "      <td>6715.0</td>\n",
       "      <td>49.0</td>\n",
       "      <td>Altark Susent</td>\n",
       "    </tr>\n",
       "    <tr>\n",
       "      <th>3</th>\n",
       "      <td>0003_02</td>\n",
       "      <td>Europa</td>\n",
       "      <td>False</td>\n",
       "      <td>A/0/S</td>\n",
       "      <td>TRAPPIST-1e</td>\n",
       "      <td>33.0</td>\n",
       "      <td>False</td>\n",
       "      <td>0.0</td>\n",
       "      <td>1283.0</td>\n",
       "      <td>371.0</td>\n",
       "      <td>3329.0</td>\n",
       "      <td>193.0</td>\n",
       "      <td>Solam Susent</td>\n",
       "    </tr>\n",
       "    <tr>\n",
       "      <th>4</th>\n",
       "      <td>0004_01</td>\n",
       "      <td>Earth</td>\n",
       "      <td>False</td>\n",
       "      <td>F/1/S</td>\n",
       "      <td>TRAPPIST-1e</td>\n",
       "      <td>16.0</td>\n",
       "      <td>False</td>\n",
       "      <td>303.0</td>\n",
       "      <td>70.0</td>\n",
       "      <td>151.0</td>\n",
       "      <td>565.0</td>\n",
       "      <td>2.0</td>\n",
       "      <td>Willy Santantines</td>\n",
       "    </tr>\n",
       "  </tbody>\n",
       "</table>\n",
       "</div>"
      ],
      "text/plain": [
       "  PassengerId HomePlanet CryoSleep  Cabin  Destination   Age    VIP  \\\n",
       "0     0001_01     Europa     False  B/0/P  TRAPPIST-1e  39.0  False   \n",
       "1     0002_01      Earth     False  F/0/S  TRAPPIST-1e  24.0  False   \n",
       "2     0003_01     Europa     False  A/0/S  TRAPPIST-1e  58.0   True   \n",
       "3     0003_02     Europa     False  A/0/S  TRAPPIST-1e  33.0  False   \n",
       "4     0004_01      Earth     False  F/1/S  TRAPPIST-1e  16.0  False   \n",
       "\n",
       "   RoomService  FoodCourt  ShoppingMall     Spa  VRDeck               Name  \n",
       "0          0.0        0.0           0.0     0.0     0.0    Maham Ofracculy  \n",
       "1        109.0        9.0          25.0   549.0    44.0       Juanna Vines  \n",
       "2         43.0     3576.0           0.0  6715.0    49.0      Altark Susent  \n",
       "3          0.0     1283.0         371.0  3329.0   193.0       Solam Susent  \n",
       "4        303.0       70.0         151.0   565.0     2.0  Willy Santantines  "
      ]
     },
     "execution_count": 3,
     "metadata": {},
     "output_type": "execute_result"
    }
   ],
   "source": [
    "target = train['Transported']\n",
    "train = train.drop('Transported', axis=1)\n",
    "train.head()"
   ]
  },
  {
   "cell_type": "code",
   "execution_count": 4,
   "id": "909f6aa9",
   "metadata": {
    "execution": {
     "iopub.execute_input": "2023-01-19T16:09:02.456208Z",
     "iopub.status.busy": "2023-01-19T16:09:02.455800Z",
     "iopub.status.idle": "2023-01-19T16:09:02.608441Z",
     "shell.execute_reply": "2023-01-19T16:09:02.607646Z"
    },
    "papermill": {
     "duration": 0.162695,
     "end_time": "2023-01-19T16:09:02.610554",
     "exception": false,
     "start_time": "2023-01-19T16:09:02.447859",
     "status": "completed"
    },
    "tags": []
   },
   "outputs": [
    {
     "data": {
      "image/png": "[encoded data removed]",
      "text/plain": [
       "<Figure size 432x288 with 1 Axes>"
      ]
     },
     "metadata": {
      "needs_background": "light"
     },
     "output_type": "display_data"
    }
   ],
   "source": [
    "sns.countplot(x=target)\n",
    "plt.show()"
   ]
  },
  {
   "cell_type": "code",
   "execution_count": 5,
   "id": "b9055e29",
   "metadata": {
    "execution": {
     "iopub.execute_input": "2023-01-19T16:09:02.629689Z",
     "iopub.status.busy": "2023-01-19T16:09:02.628107Z",
     "iopub.status.idle": "2023-01-19T16:09:02.636554Z",
     "shell.execute_reply": "2023-01-19T16:09:02.635640Z"
    },
    "papermill": {
     "duration": 0.01921,
     "end_time": "2023-01-19T16:09:02.638358",
     "exception": false,
     "start_time": "2023-01-19T16:09:02.619148",
     "status": "completed"
    },
    "tags": []
   },
   "outputs": [
    {
     "data": {
      "text/plain": [
       "PassengerId      object\n",
       "HomePlanet       object\n",
       "CryoSleep        object\n",
       "Cabin            object\n",
       "Destination      object\n",
       "Age             float64\n",
       "VIP              object\n",
       "RoomService     float64\n",
       "FoodCourt       float64\n",
       "ShoppingMall    float64\n",
       "Spa             float64\n",
       "VRDeck          float64\n",
       "Name             object\n",
       "dtype: object"
      ]
     },
     "execution_count": 5,
     "metadata": {},
     "output_type": "execute_result"
    }
   ],
   "source": [
    "train.dtypes"
   ]
  },
  {
   "cell_type": "code",
   "execution_count": 6,
   "id": "3d084130",
   "metadata": {
    "execution": {
     "iopub.execute_input": "2023-01-19T16:09:02.654887Z",
     "iopub.status.busy": "2023-01-19T16:09:02.653722Z",
     "iopub.status.idle": "2023-01-19T16:09:02.667127Z",
     "shell.execute_reply": "2023-01-19T16:09:02.665840Z"
    },
    "papermill": {
     "duration": 0.023895,
     "end_time": "2023-01-19T16:09:02.669573",
     "exception": false,
     "start_time": "2023-01-19T16:09:02.645678",
     "status": "completed"
    },
    "tags": []
   },
   "outputs": [
    {
     "data": {
      "text/plain": [
       "PassengerId       0\n",
       "HomePlanet      201\n",
       "CryoSleep       217\n",
       "Cabin           199\n",
       "Destination     182\n",
       "Age             179\n",
       "VIP             203\n",
       "RoomService     181\n",
       "FoodCourt       183\n",
       "ShoppingMall    208\n",
       "Spa             183\n",
       "VRDeck          188\n",
       "Name            200\n",
       "dtype: int64"
      ]
     },
     "execution_count": 6,
     "metadata": {},
     "output_type": "execute_result"
    }
   ],
   "source": [
    "train.isna().sum()"
   ]
  },
  {
   "cell_type": "markdown",
   "id": "b85737f7",
   "metadata": {
    "papermill": {
     "duration": 0.006391,
     "end_time": "2023-01-19T16:09:02.683829",
     "exception": false,
     "start_time": "2023-01-19T16:09:02.677438",
     "status": "completed"
    },
    "tags": []
   },
   "source": [
    "Корреляция числовый значений"
   ]
  },
  {
   "cell_type": "code",
   "execution_count": 7,
   "id": "51bf5e2a",
   "metadata": {
    "execution": {
     "iopub.execute_input": "2023-01-19T16:09:02.699068Z",
     "iopub.status.busy": "2023-01-19T16:09:02.698663Z",
     "iopub.status.idle": "2023-01-19T16:09:03.003181Z",
     "shell.execute_reply": "2023-01-19T16:09:03.001888Z"
    },
    "papermill": {
     "duration": 0.315364,
     "end_time": "2023-01-19T16:09:03.005952",
     "exception": false,
     "start_time": "2023-01-19T16:09:02.690588",
     "status": "completed"
    },
    "tags": []
   },
   "outputs": [
    {
     "data": {
      "image/png": "[encoded data removed]",
      "text/plain": [
       "<Figure size 720x576 with 2 Axes>"
      ]
     },
     "metadata": {
      "needs_background": "light"
     },
     "output_type": "display_data"
    }
   ],
   "source": [
    "corr = train.corr()\n",
    "plt.figure(figsize=(10, 8))\n",
    "# sns.clustermap(corr, cmap='rocket_r')\n",
    "sns.heatmap(corr, xticklabels=corr.columns.values,\n",
    "            yticklabels=corr.columns.values, vmin=-1, vmax=1,\n",
    "            annot=True, square=True)\n",
    "plt.show()"
   ]
  },
  {
   "cell_type": "code",
   "execution_count": 8,
   "id": "f39ccf1d",
   "metadata": {
    "execution": {
     "iopub.execute_input": "2023-01-19T16:09:03.023044Z",
     "iopub.status.busy": "2023-01-19T16:09:03.022609Z",
     "iopub.status.idle": "2023-01-19T16:09:03.034792Z",
     "shell.execute_reply": "2023-01-19T16:09:03.033768Z"
    },
    "papermill": {
     "duration": 0.023609,
     "end_time": "2023-01-19T16:09:03.037253",
     "exception": false,
     "start_time": "2023-01-19T16:09:03.013644",
     "status": "completed"
    },
    "tags": []
   },
   "outputs": [],
   "source": [
    "def prepare_data(df):\n",
    "    df = df.rename(columns = lambda x: x.lower())\n",
    "    df['deck'] = df['cabin'].apply(lambda x: 'Unknown' if x is np.nan else str(x)[0])\n",
    "    df['num'] = df['cabin'].apply(lambda x: 'Unknown' if x is np.nan else str(x)[2])\n",
    "    df['side'] = df['cabin'].apply(lambda x: 'Unknown' if x is np.nan else str(x)[-1])\n",
    "    df = df.drop(['passengerid','name', 'cabin'], axis=1)\n",
    "    \n",
    "    quantity_columns = ['age', 'roomservice', 'foodcourt', 'spa', 'shoppingmall','vrdeck']\n",
    "    qualitative_columns = ['homeplanet', 'cryosleep', 'destination', 'vip']\n",
    "    \n",
    "    imp_str = SimpleImputer(missing_values=np.nan, strategy='constant', fill_value='Unknown')\n",
    "    df[qualitative_columns] = imp_str.fit_transform(df[qualitative_columns])\n",
    "    \n",
    "    group_num = df.groupby(['homeplanet','vip'], as_index=False)[quantity_columns].mean()\n",
    "    for q_col in quantity_columns:\n",
    "        for g in group_num[['homeplanet', 'vip']].values:\n",
    "            val = group_num.where((group_num['homeplanet']==g[0]) & (group_num['vip']==g[1]))[q_col].dropna().iloc[0]\n",
    "            df.loc[(df.homeplanet == g[0]) & (df.vip == g[1]) & (df[q_col].isna()), q_col] = val\n",
    "#     imp_numeric = SimpleImputer(missing_values=np.nan, strategy='mean')\n",
    "#     df[quantity_columns] = imp_numeric.fit_transform(df[quantity_columns])\n",
    "    \n",
    "    minmax_scaler = MinMaxScaler()\n",
    "    df[quantity_columns] = minmax_scaler.fit_transform(df[quantity_columns])\n",
    "    \n",
    "    df = pd.get_dummies(df)\n",
    "    return df"
   ]
  },
  {
   "cell_type": "code",
   "execution_count": 9,
   "id": "3d9ace2c",
   "metadata": {
    "execution": {
     "iopub.execute_input": "2023-01-19T16:09:03.054926Z",
     "iopub.status.busy": "2023-01-19T16:09:03.053404Z",
     "iopub.status.idle": "2023-01-19T16:09:03.397626Z",
     "shell.execute_reply": "2023-01-19T16:09:03.396266Z"
    },
    "papermill": {
     "duration": 0.355121,
     "end_time": "2023-01-19T16:09:03.399800",
     "exception": false,
     "start_time": "2023-01-19T16:09:03.044679",
     "status": "completed"
    },
    "tags": []
   },
   "outputs": [
    {
     "name": "stdout",
     "output_type": "stream",
     "text": [
      "(8693, 43)\n"
     ]
    },
    {
     "data": {
      "text/html": [
       "<div>\n",
       "<style scoped>\n",
       "    .dataframe tbody tr th:only-of-type {\n",
       "        vertical-align: middle;\n",
       "    }\n",
       "\n",
       "    .dataframe tbody tr th {\n",
       "        vertical-align: top;\n",
       "    }\n",
       "\n",
       "    .dataframe thead th {\n",
       "        text-align: right;\n",
       "    }\n",
       "</style>\n",
       "<table border=\"1\" class=\"dataframe\">\n",
       "  <thead>\n",
       "    <tr style=\"text-align: right;\">\n",
       "      <th></th>\n",
       "      <th>age</th>\n",
       "      <th>roomservice</th>\n",
       "      <th>foodcourt</th>\n",
       "      <th>shoppingmall</th>\n",
       "      <th>spa</th>\n",
       "      <th>vrdeck</th>\n",
       "      <th>homeplanet_Earth</th>\n",
       "      <th>homeplanet_Europa</th>\n",
       "      <th>homeplanet_Mars</th>\n",
       "      <th>homeplanet_Unknown</th>\n",
       "      <th>...</th>\n",
       "      <th>num_4</th>\n",
       "      <th>num_5</th>\n",
       "      <th>num_6</th>\n",
       "      <th>num_7</th>\n",
       "      <th>num_8</th>\n",
       "      <th>num_9</th>\n",
       "      <th>num_Unknown</th>\n",
       "      <th>side_P</th>\n",
       "      <th>side_S</th>\n",
       "      <th>side_Unknown</th>\n",
       "    </tr>\n",
       "  </thead>\n",
       "  <tbody>\n",
       "    <tr>\n",
       "      <th>0</th>\n",
       "      <td>0.493671</td>\n",
       "      <td>0.000000</td>\n",
       "      <td>0.000000</td>\n",
       "      <td>0.000000</td>\n",
       "      <td>0.000000</td>\n",
       "      <td>0.000000</td>\n",
       "      <td>0</td>\n",
       "      <td>1</td>\n",
       "      <td>0</td>\n",
       "      <td>0</td>\n",
       "      <td>...</td>\n",
       "      <td>0</td>\n",
       "      <td>0</td>\n",
       "      <td>0</td>\n",
       "      <td>0</td>\n",
       "      <td>0</td>\n",
       "      <td>0</td>\n",
       "      <td>0</td>\n",
       "      <td>1</td>\n",
       "      <td>0</td>\n",
       "      <td>0</td>\n",
       "    </tr>\n",
       "    <tr>\n",
       "      <th>1</th>\n",
       "      <td>0.303797</td>\n",
       "      <td>0.007608</td>\n",
       "      <td>0.000302</td>\n",
       "      <td>0.001064</td>\n",
       "      <td>0.024500</td>\n",
       "      <td>0.001823</td>\n",
       "      <td>1</td>\n",
       "      <td>0</td>\n",
       "      <td>0</td>\n",
       "      <td>0</td>\n",
       "      <td>...</td>\n",
       "      <td>0</td>\n",
       "      <td>0</td>\n",
       "      <td>0</td>\n",
       "      <td>0</td>\n",
       "      <td>0</td>\n",
       "      <td>0</td>\n",
       "      <td>0</td>\n",
       "      <td>0</td>\n",
       "      <td>1</td>\n",
       "      <td>0</td>\n",
       "    </tr>\n",
       "    <tr>\n",
       "      <th>2</th>\n",
       "      <td>0.734177</td>\n",
       "      <td>0.003001</td>\n",
       "      <td>0.119948</td>\n",
       "      <td>0.000000</td>\n",
       "      <td>0.299670</td>\n",
       "      <td>0.002030</td>\n",
       "      <td>0</td>\n",
       "      <td>1</td>\n",
       "      <td>0</td>\n",
       "      <td>0</td>\n",
       "      <td>...</td>\n",
       "      <td>0</td>\n",
       "      <td>0</td>\n",
       "      <td>0</td>\n",
       "      <td>0</td>\n",
       "      <td>0</td>\n",
       "      <td>0</td>\n",
       "      <td>0</td>\n",
       "      <td>0</td>\n",
       "      <td>1</td>\n",
       "      <td>0</td>\n",
       "    </tr>\n",
       "    <tr>\n",
       "      <th>3</th>\n",
       "      <td>0.417722</td>\n",
       "      <td>0.000000</td>\n",
       "      <td>0.043035</td>\n",
       "      <td>0.015793</td>\n",
       "      <td>0.148563</td>\n",
       "      <td>0.007997</td>\n",
       "      <td>0</td>\n",
       "      <td>1</td>\n",
       "      <td>0</td>\n",
       "      <td>0</td>\n",
       "      <td>...</td>\n",
       "      <td>0</td>\n",
       "      <td>0</td>\n",
       "      <td>0</td>\n",
       "      <td>0</td>\n",
       "      <td>0</td>\n",
       "      <td>0</td>\n",
       "      <td>0</td>\n",
       "      <td>0</td>\n",
       "      <td>1</td>\n",
       "      <td>0</td>\n",
       "    </tr>\n",
       "    <tr>\n",
       "      <th>4</th>\n",
       "      <td>0.202532</td>\n",
       "      <td>0.021149</td>\n",
       "      <td>0.002348</td>\n",
       "      <td>0.006428</td>\n",
       "      <td>0.025214</td>\n",
       "      <td>0.000083</td>\n",
       "      <td>1</td>\n",
       "      <td>0</td>\n",
       "      <td>0</td>\n",
       "      <td>0</td>\n",
       "      <td>...</td>\n",
       "      <td>0</td>\n",
       "      <td>0</td>\n",
       "      <td>0</td>\n",
       "      <td>0</td>\n",
       "      <td>0</td>\n",
       "      <td>0</td>\n",
       "      <td>0</td>\n",
       "      <td>0</td>\n",
       "      <td>1</td>\n",
       "      <td>0</td>\n",
       "    </tr>\n",
       "  </tbody>\n",
       "</table>\n",
       "<p>5 rows × 43 columns</p>\n",
       "</div>"
      ],
      "text/plain": [
       "        age  roomservice  foodcourt  shoppingmall       spa    vrdeck  \\\n",
       "0  0.493671     0.000000   0.000000      0.000000  0.000000  0.000000   \n",
       "1  0.303797     0.007608   0.000302      0.001064  0.024500  0.001823   \n",
       "2  0.734177     0.003001   0.119948      0.000000  0.299670  0.002030   \n",
       "3  0.417722     0.000000   0.043035      0.015793  0.148563  0.007997   \n",
       "4  0.202532     0.021149   0.002348      0.006428  0.025214  0.000083   \n",
       "\n",
       "   homeplanet_Earth  homeplanet_Europa  homeplanet_Mars  homeplanet_Unknown  \\\n",
       "0                 0                  1                0                   0   \n",
       "1                 1                  0                0                   0   \n",
       "2                 0                  1                0                   0   \n",
       "3                 0                  1                0                   0   \n",
       "4                 1                  0                0                   0   \n",
       "\n",
       "   ...  num_4  num_5  num_6  num_7  num_8  num_9  num_Unknown  side_P  side_S  \\\n",
       "0  ...      0      0      0      0      0      0            0       1       0   \n",
       "1  ...      0      0      0      0      0      0            0       0       1   \n",
       "2  ...      0      0      0      0      0      0            0       0       1   \n",
       "3  ...      0      0      0      0      0      0            0       0       1   \n",
       "4  ...      0      0      0      0      0      0            0       0       1   \n",
       "\n",
       "   side_Unknown  \n",
       "0             0  \n",
       "1             0  \n",
       "2             0  \n",
       "3             0  \n",
       "4             0  \n",
       "\n",
       "[5 rows x 43 columns]"
      ]
     },
     "execution_count": 9,
     "metadata": {},
     "output_type": "execute_result"
    }
   ],
   "source": [
    "train = prepare_data(train)\n",
    "print(train.shape)\n",
    "train.head()"
   ]
  },
  {
   "cell_type": "code",
   "execution_count": 10,
   "id": "b4e4122c",
   "metadata": {
    "execution": {
     "iopub.execute_input": "2023-01-19T16:09:03.416887Z",
     "iopub.status.busy": "2023-01-19T16:09:03.416500Z",
     "iopub.status.idle": "2023-01-19T16:09:03.461949Z",
     "shell.execute_reply": "2023-01-19T16:09:03.460254Z"
    },
    "papermill": {
     "duration": 0.057404,
     "end_time": "2023-01-19T16:09:03.464895",
     "exception": false,
     "start_time": "2023-01-19T16:09:03.407491",
     "status": "completed"
    },
    "tags": []
   },
   "outputs": [
    {
     "name": "stdout",
     "output_type": "stream",
     "text": [
      "(4277, 13)\n"
     ]
    },
    {
     "data": {
      "text/html": [
       "<div>\n",
       "<style scoped>\n",
       "    .dataframe tbody tr th:only-of-type {\n",
       "        vertical-align: middle;\n",
       "    }\n",
       "\n",
       "    .dataframe tbody tr th {\n",
       "        vertical-align: top;\n",
       "    }\n",
       "\n",
       "    .dataframe thead th {\n",
       "        text-align: right;\n",
       "    }\n",
       "</style>\n",
       "<table border=\"1\" class=\"dataframe\">\n",
       "  <thead>\n",
       "    <tr style=\"text-align: right;\">\n",
       "      <th></th>\n",
       "      <th>PassengerId</th>\n",
       "      <th>HomePlanet</th>\n",
       "      <th>CryoSleep</th>\n",
       "      <th>Cabin</th>\n",
       "      <th>Destination</th>\n",
       "      <th>Age</th>\n",
       "      <th>VIP</th>\n",
       "      <th>RoomService</th>\n",
       "      <th>FoodCourt</th>\n",
       "      <th>ShoppingMall</th>\n",
       "      <th>Spa</th>\n",
       "      <th>VRDeck</th>\n",
       "      <th>Name</th>\n",
       "    </tr>\n",
       "  </thead>\n",
       "  <tbody>\n",
       "    <tr>\n",
       "      <th>0</th>\n",
       "      <td>0013_01</td>\n",
       "      <td>Earth</td>\n",
       "      <td>True</td>\n",
       "      <td>G/3/S</td>\n",
       "      <td>TRAPPIST-1e</td>\n",
       "      <td>27.0</td>\n",
       "      <td>False</td>\n",
       "      <td>0.0</td>\n",
       "      <td>0.0</td>\n",
       "      <td>0.0</td>\n",
       "      <td>0.0</td>\n",
       "      <td>0.0</td>\n",
       "      <td>Nelly Carsoning</td>\n",
       "    </tr>\n",
       "    <tr>\n",
       "      <th>1</th>\n",
       "      <td>0018_01</td>\n",
       "      <td>Earth</td>\n",
       "      <td>False</td>\n",
       "      <td>F/4/S</td>\n",
       "      <td>TRAPPIST-1e</td>\n",
       "      <td>19.0</td>\n",
       "      <td>False</td>\n",
       "      <td>0.0</td>\n",
       "      <td>9.0</td>\n",
       "      <td>0.0</td>\n",
       "      <td>2823.0</td>\n",
       "      <td>0.0</td>\n",
       "      <td>Lerome Peckers</td>\n",
       "    </tr>\n",
       "    <tr>\n",
       "      <th>2</th>\n",
       "      <td>0019_01</td>\n",
       "      <td>Europa</td>\n",
       "      <td>True</td>\n",
       "      <td>C/0/S</td>\n",
       "      <td>55 Cancri e</td>\n",
       "      <td>31.0</td>\n",
       "      <td>False</td>\n",
       "      <td>0.0</td>\n",
       "      <td>0.0</td>\n",
       "      <td>0.0</td>\n",
       "      <td>0.0</td>\n",
       "      <td>0.0</td>\n",
       "      <td>Sabih Unhearfus</td>\n",
       "    </tr>\n",
       "    <tr>\n",
       "      <th>3</th>\n",
       "      <td>0021_01</td>\n",
       "      <td>Europa</td>\n",
       "      <td>False</td>\n",
       "      <td>C/1/S</td>\n",
       "      <td>TRAPPIST-1e</td>\n",
       "      <td>38.0</td>\n",
       "      <td>False</td>\n",
       "      <td>0.0</td>\n",
       "      <td>6652.0</td>\n",
       "      <td>0.0</td>\n",
       "      <td>181.0</td>\n",
       "      <td>585.0</td>\n",
       "      <td>Meratz Caltilter</td>\n",
       "    </tr>\n",
       "    <tr>\n",
       "      <th>4</th>\n",
       "      <td>0023_01</td>\n",
       "      <td>Earth</td>\n",
       "      <td>False</td>\n",
       "      <td>F/5/S</td>\n",
       "      <td>TRAPPIST-1e</td>\n",
       "      <td>20.0</td>\n",
       "      <td>False</td>\n",
       "      <td>10.0</td>\n",
       "      <td>0.0</td>\n",
       "      <td>635.0</td>\n",
       "      <td>0.0</td>\n",
       "      <td>0.0</td>\n",
       "      <td>Brence Harperez</td>\n",
       "    </tr>\n",
       "  </tbody>\n",
       "</table>\n",
       "</div>"
      ],
      "text/plain": [
       "  PassengerId HomePlanet CryoSleep  Cabin  Destination   Age    VIP  \\\n",
       "0     0013_01      Earth      True  G/3/S  TRAPPIST-1e  27.0  False   \n",
       "1     0018_01      Earth     False  F/4/S  TRAPPIST-1e  19.0  False   \n",
       "2     0019_01     Europa      True  C/0/S  55 Cancri e  31.0  False   \n",
       "3     0021_01     Europa     False  C/1/S  TRAPPIST-1e  38.0  False   \n",
       "4     0023_01      Earth     False  F/5/S  TRAPPIST-1e  20.0  False   \n",
       "\n",
       "   RoomService  FoodCourt  ShoppingMall     Spa  VRDeck              Name  \n",
       "0          0.0        0.0           0.0     0.0     0.0   Nelly Carsoning  \n",
       "1          0.0        9.0           0.0  2823.0     0.0    Lerome Peckers  \n",
       "2          0.0        0.0           0.0     0.0     0.0   Sabih Unhearfus  \n",
       "3          0.0     6652.0           0.0   181.0   585.0  Meratz Caltilter  \n",
       "4         10.0        0.0         635.0     0.0     0.0   Brence Harperez  "
      ]
     },
     "execution_count": 10,
     "metadata": {},
     "output_type": "execute_result"
    }
   ],
   "source": [
    "test = pd.read_csv('/kaggle/input/spaceship-titanic/test.csv')\n",
    "print(test.shape)\n",
    "test.head()"
   ]
  },
  {
   "cell_type": "code",
   "execution_count": 11,
   "id": "435be774",
   "metadata": {
    "execution": {
     "iopub.execute_input": "2023-01-19T16:09:03.483763Z",
     "iopub.status.busy": "2023-01-19T16:09:03.483222Z",
     "iopub.status.idle": "2023-01-19T16:09:03.735746Z",
     "shell.execute_reply": "2023-01-19T16:09:03.734291Z"
    },
    "papermill": {
     "duration": 0.264693,
     "end_time": "2023-01-19T16:09:03.738196",
     "exception": false,
     "start_time": "2023-01-19T16:09:03.473503",
     "status": "completed"
    },
    "tags": []
   },
   "outputs": [
    {
     "data": {
      "text/html": [
       "<div>\n",
       "<style scoped>\n",
       "    .dataframe tbody tr th:only-of-type {\n",
       "        vertical-align: middle;\n",
       "    }\n",
       "\n",
       "    .dataframe tbody tr th {\n",
       "        vertical-align: top;\n",
       "    }\n",
       "\n",
       "    .dataframe thead th {\n",
       "        text-align: right;\n",
       "    }\n",
       "</style>\n",
       "<table border=\"1\" class=\"dataframe\">\n",
       "  <thead>\n",
       "    <tr style=\"text-align: right;\">\n",
       "      <th></th>\n",
       "      <th>age</th>\n",
       "      <th>roomservice</th>\n",
       "      <th>foodcourt</th>\n",
       "      <th>shoppingmall</th>\n",
       "      <th>spa</th>\n",
       "      <th>vrdeck</th>\n",
       "      <th>homeplanet_Earth</th>\n",
       "      <th>homeplanet_Europa</th>\n",
       "      <th>homeplanet_Mars</th>\n",
       "      <th>homeplanet_Unknown</th>\n",
       "      <th>...</th>\n",
       "      <th>num_4</th>\n",
       "      <th>num_5</th>\n",
       "      <th>num_6</th>\n",
       "      <th>num_7</th>\n",
       "      <th>num_8</th>\n",
       "      <th>num_9</th>\n",
       "      <th>num_Unknown</th>\n",
       "      <th>side_P</th>\n",
       "      <th>side_S</th>\n",
       "      <th>side_Unknown</th>\n",
       "    </tr>\n",
       "  </thead>\n",
       "  <tbody>\n",
       "    <tr>\n",
       "      <th>0</th>\n",
       "      <td>0.341772</td>\n",
       "      <td>0.000000</td>\n",
       "      <td>0.000000</td>\n",
       "      <td>0.00000</td>\n",
       "      <td>0.000000</td>\n",
       "      <td>0.000000</td>\n",
       "      <td>1</td>\n",
       "      <td>0</td>\n",
       "      <td>0</td>\n",
       "      <td>0</td>\n",
       "      <td>...</td>\n",
       "      <td>0</td>\n",
       "      <td>0</td>\n",
       "      <td>0</td>\n",
       "      <td>0</td>\n",
       "      <td>0</td>\n",
       "      <td>0</td>\n",
       "      <td>0</td>\n",
       "      <td>0</td>\n",
       "      <td>1</td>\n",
       "      <td>0</td>\n",
       "    </tr>\n",
       "    <tr>\n",
       "      <th>1</th>\n",
       "      <td>0.240506</td>\n",
       "      <td>0.000000</td>\n",
       "      <td>0.000356</td>\n",
       "      <td>0.00000</td>\n",
       "      <td>0.142260</td>\n",
       "      <td>0.000000</td>\n",
       "      <td>1</td>\n",
       "      <td>0</td>\n",
       "      <td>0</td>\n",
       "      <td>0</td>\n",
       "      <td>...</td>\n",
       "      <td>1</td>\n",
       "      <td>0</td>\n",
       "      <td>0</td>\n",
       "      <td>0</td>\n",
       "      <td>0</td>\n",
       "      <td>0</td>\n",
       "      <td>0</td>\n",
       "      <td>0</td>\n",
       "      <td>1</td>\n",
       "      <td>0</td>\n",
       "    </tr>\n",
       "    <tr>\n",
       "      <th>2</th>\n",
       "      <td>0.392405</td>\n",
       "      <td>0.000000</td>\n",
       "      <td>0.000000</td>\n",
       "      <td>0.00000</td>\n",
       "      <td>0.000000</td>\n",
       "      <td>0.000000</td>\n",
       "      <td>0</td>\n",
       "      <td>1</td>\n",
       "      <td>0</td>\n",
       "      <td>0</td>\n",
       "      <td>...</td>\n",
       "      <td>0</td>\n",
       "      <td>0</td>\n",
       "      <td>0</td>\n",
       "      <td>0</td>\n",
       "      <td>0</td>\n",
       "      <td>0</td>\n",
       "      <td>0</td>\n",
       "      <td>0</td>\n",
       "      <td>1</td>\n",
       "      <td>0</td>\n",
       "    </tr>\n",
       "    <tr>\n",
       "      <th>3</th>\n",
       "      <td>0.481013</td>\n",
       "      <td>0.000000</td>\n",
       "      <td>0.263206</td>\n",
       "      <td>0.00000</td>\n",
       "      <td>0.009121</td>\n",
       "      <td>0.026266</td>\n",
       "      <td>0</td>\n",
       "      <td>1</td>\n",
       "      <td>0</td>\n",
       "      <td>0</td>\n",
       "      <td>...</td>\n",
       "      <td>0</td>\n",
       "      <td>0</td>\n",
       "      <td>0</td>\n",
       "      <td>0</td>\n",
       "      <td>0</td>\n",
       "      <td>0</td>\n",
       "      <td>0</td>\n",
       "      <td>0</td>\n",
       "      <td>1</td>\n",
       "      <td>0</td>\n",
       "    </tr>\n",
       "    <tr>\n",
       "      <th>4</th>\n",
       "      <td>0.253165</td>\n",
       "      <td>0.000865</td>\n",
       "      <td>0.000000</td>\n",
       "      <td>0.07658</td>\n",
       "      <td>0.000000</td>\n",
       "      <td>0.000000</td>\n",
       "      <td>1</td>\n",
       "      <td>0</td>\n",
       "      <td>0</td>\n",
       "      <td>0</td>\n",
       "      <td>...</td>\n",
       "      <td>0</td>\n",
       "      <td>1</td>\n",
       "      <td>0</td>\n",
       "      <td>0</td>\n",
       "      <td>0</td>\n",
       "      <td>0</td>\n",
       "      <td>0</td>\n",
       "      <td>0</td>\n",
       "      <td>1</td>\n",
       "      <td>0</td>\n",
       "    </tr>\n",
       "  </tbody>\n",
       "</table>\n",
       "<p>5 rows × 43 columns</p>\n",
       "</div>"
      ],
      "text/plain": [
       "        age  roomservice  foodcourt  shoppingmall       spa    vrdeck  \\\n",
       "0  0.341772     0.000000   0.000000       0.00000  0.000000  0.000000   \n",
       "1  0.240506     0.000000   0.000356       0.00000  0.142260  0.000000   \n",
       "2  0.392405     0.000000   0.000000       0.00000  0.000000  0.000000   \n",
       "3  0.481013     0.000000   0.263206       0.00000  0.009121  0.026266   \n",
       "4  0.253165     0.000865   0.000000       0.07658  0.000000  0.000000   \n",
       "\n",
       "   homeplanet_Earth  homeplanet_Europa  homeplanet_Mars  homeplanet_Unknown  \\\n",
       "0                 1                  0                0                   0   \n",
       "1                 1                  0                0                   0   \n",
       "2                 0                  1                0                   0   \n",
       "3                 0                  1                0                   0   \n",
       "4                 1                  0                0                   0   \n",
       "\n",
       "   ...  num_4  num_5  num_6  num_7  num_8  num_9  num_Unknown  side_P  side_S  \\\n",
       "0  ...      0      0      0      0      0      0            0       0       1   \n",
       "1  ...      1      0      0      0      0      0            0       0       1   \n",
       "2  ...      0      0      0      0      0      0            0       0       1   \n",
       "3  ...      0      0      0      0      0      0            0       0       1   \n",
       "4  ...      0      1      0      0      0      0            0       0       1   \n",
       "\n",
       "   side_Unknown  \n",
       "0             0  \n",
       "1             0  \n",
       "2             0  \n",
       "3             0  \n",
       "4             0  \n",
       "\n",
       "[5 rows x 43 columns]"
      ]
     },
     "execution_count": 11,
     "metadata": {},
     "output_type": "execute_result"
    }
   ],
   "source": [
    "test = prepare_data(test)\n",
    "test.head()"
   ]
  },
  {
   "cell_type": "code",
   "execution_count": 12,
   "id": "80a25390",
   "metadata": {
    "execution": {
     "iopub.execute_input": "2023-01-19T16:09:03.755997Z",
     "iopub.status.busy": "2023-01-19T16:09:03.755653Z",
     "iopub.status.idle": "2023-01-19T16:09:03.773763Z",
     "shell.execute_reply": "2023-01-19T16:09:03.772845Z"
    },
    "papermill": {
     "duration": 0.029081,
     "end_time": "2023-01-19T16:09:03.775489",
     "exception": false,
     "start_time": "2023-01-19T16:09:03.746408",
     "status": "completed"
    },
    "tags": []
   },
   "outputs": [
    {
     "name": "stdout",
     "output_type": "stream",
     "text": [
      "(4277, 2)\n"
     ]
    },
    {
     "data": {
      "text/html": [
       "<div>\n",
       "<style scoped>\n",
       "    .dataframe tbody tr th:only-of-type {\n",
       "        vertical-align: middle;\n",
       "    }\n",
       "\n",
       "    .dataframe tbody tr th {\n",
       "        vertical-align: top;\n",
       "    }\n",
       "\n",
       "    .dataframe thead th {\n",
       "        text-align: right;\n",
       "    }\n",
       "</style>\n",
       "<table border=\"1\" class=\"dataframe\">\n",
       "  <thead>\n",
       "    <tr style=\"text-align: right;\">\n",
       "      <th></th>\n",
       "      <th>PassengerId</th>\n",
       "      <th>Transported</th>\n",
       "    </tr>\n",
       "  </thead>\n",
       "  <tbody>\n",
       "    <tr>\n",
       "      <th>0</th>\n",
       "      <td>0013_01</td>\n",
       "      <td>False</td>\n",
       "    </tr>\n",
       "    <tr>\n",
       "      <th>1</th>\n",
       "      <td>0018_01</td>\n",
       "      <td>False</td>\n",
       "    </tr>\n",
       "    <tr>\n",
       "      <th>2</th>\n",
       "      <td>0019_01</td>\n",
       "      <td>False</td>\n",
       "    </tr>\n",
       "    <tr>\n",
       "      <th>3</th>\n",
       "      <td>0021_01</td>\n",
       "      <td>False</td>\n",
       "    </tr>\n",
       "    <tr>\n",
       "      <th>4</th>\n",
       "      <td>0023_01</td>\n",
       "      <td>False</td>\n",
       "    </tr>\n",
       "  </tbody>\n",
       "</table>\n",
       "</div>"
      ],
      "text/plain": [
       "  PassengerId  Transported\n",
       "0     0013_01        False\n",
       "1     0018_01        False\n",
       "2     0019_01        False\n",
       "3     0021_01        False\n",
       "4     0023_01        False"
      ]
     },
     "execution_count": 12,
     "metadata": {},
     "output_type": "execute_result"
    }
   ],
   "source": [
    "test_result = pd.read_csv('/kaggle/input/spaceship-titanic/sample_submission.csv')\n",
    "print(test_result.shape)\n",
    "test_result.head()"
   ]
  },
  {
   "cell_type": "code",
   "execution_count": 13,
   "id": "44567776",
   "metadata": {
    "execution": {
     "iopub.execute_input": "2023-01-19T16:09:03.793546Z",
     "iopub.status.busy": "2023-01-19T16:09:03.793214Z",
     "iopub.status.idle": "2023-01-19T16:09:03.804510Z",
     "shell.execute_reply": "2023-01-19T16:09:03.802623Z"
    },
    "papermill": {
     "duration": 0.023345,
     "end_time": "2023-01-19T16:09:03.807253",
     "exception": false,
     "start_time": "2023-01-19T16:09:03.783908",
     "status": "completed"
    },
    "tags": []
   },
   "outputs": [],
   "source": [
    "x_train, x_val, y_train, y_val = train_test_split(train, target, test_size=0.33,\n",
    "                                                    random_state=33)"
   ]
  },
  {
   "cell_type": "code",
   "execution_count": 14,
   "id": "a843cef9",
   "metadata": {
    "execution": {
     "iopub.execute_input": "2023-01-19T16:09:03.825666Z",
     "iopub.status.busy": "2023-01-19T16:09:03.825284Z",
     "iopub.status.idle": "2023-01-19T16:09:03.924376Z",
     "shell.execute_reply": "2023-01-19T16:09:03.922616Z"
    },
    "papermill": {
     "duration": 0.111289,
     "end_time": "2023-01-19T16:09:03.927060",
     "exception": false,
     "start_time": "2023-01-19T16:09:03.815771",
     "status": "completed"
    },
    "tags": []
   },
   "outputs": [],
   "source": [
    "from sklearn.ensemble import RandomForestClassifier, GradientBoostingClassifier, AdaBoostClassifier\n",
    "from sklearn.model_selection import GridSearchCV"
   ]
  },
  {
   "cell_type": "code",
   "execution_count": 15,
   "id": "95fed228",
   "metadata": {
    "execution": {
     "iopub.execute_input": "2023-01-19T16:09:03.945448Z",
     "iopub.status.busy": "2023-01-19T16:09:03.945025Z",
     "iopub.status.idle": "2023-01-19T16:09:03.950993Z",
     "shell.execute_reply": "2023-01-19T16:09:03.949663Z"
    },
    "papermill": {
     "duration": 0.017587,
     "end_time": "2023-01-19T16:09:03.953036",
     "exception": false,
     "start_time": "2023-01-19T16:09:03.935449",
     "status": "completed"
    },
    "tags": []
   },
   "outputs": [],
   "source": [
    "from sklearn.neighbors import KNeighborsClassifier\n",
    "from sklearn.svm import SVC"
   ]
  },
  {
   "cell_type": "code",
   "execution_count": 16,
   "id": "2e5a73e9",
   "metadata": {
    "execution": {
     "iopub.execute_input": "2023-01-19T16:09:03.971754Z",
     "iopub.status.busy": "2023-01-19T16:09:03.971350Z",
     "iopub.status.idle": "2023-01-19T16:09:03.976571Z",
     "shell.execute_reply": "2023-01-19T16:09:03.975117Z"
    },
    "papermill": {
     "duration": 0.018017,
     "end_time": "2023-01-19T16:09:03.979539",
     "exception": false,
     "start_time": "2023-01-19T16:09:03.961522",
     "status": "completed"
    },
    "tags": []
   },
   "outputs": [],
   "source": [
    "# params = {'criterion' : ['gini', 'entropy'],\n",
    "#           'n_estimators' : [150,200,250,300],\n",
    "#           'max_depth': range(12,19),\n",
    "#           'min_samples_split' : [2,3,4]}\n",
    "# rfc = RandomForestClassifier()\n",
    "# # params = {'n_neighbors' : range(5,25),\n",
    "# #           'weights' : ['uniform', 'distance'],\n",
    "# #           'algorithm' : ['auto', 'ball_tree', 'kd_tree', 'brute']}\n",
    "# # knc = KNeighborsClassifier()\n",
    "# clf = GridSearchCV(rfc, params)\n",
    "# clf.fit(x_val, y_val)\n",
    "# clf.best_params_"
   ]
  },
  {
   "cell_type": "code",
   "execution_count": 17,
   "id": "c6e4f965",
   "metadata": {
    "execution": {
     "iopub.execute_input": "2023-01-19T16:09:03.998556Z",
     "iopub.status.busy": "2023-01-19T16:09:03.998185Z",
     "iopub.status.idle": "2023-01-19T16:09:04.005154Z",
     "shell.execute_reply": "2023-01-19T16:09:04.003148Z"
    },
    "papermill": {
     "duration": 0.019422,
     "end_time": "2023-01-19T16:09:04.007734",
     "exception": false,
     "start_time": "2023-01-19T16:09:03.988312",
     "status": "completed"
    },
    "tags": []
   },
   "outputs": [],
   "source": [
    "def scores(y_true, y_predict, y_predict_proba):\n",
    "    print(f'accuracy: {accuracy_score(y_true, y_predict):.5f}')\n",
    "    print(f'f1-score: {f1_score(y_true, y_predict):.5f}')\n",
    "#     print(f'roc-auc score: {roc_auc_score(y_true, y_predict):.5f}')\n"
   ]
  },
  {
   "cell_type": "code",
   "execution_count": 18,
   "id": "57d6f0f9",
   "metadata": {
    "execution": {
     "iopub.execute_input": "2023-01-19T16:09:04.025774Z",
     "iopub.status.busy": "2023-01-19T16:09:04.025429Z",
     "iopub.status.idle": "2023-01-19T16:09:05.326304Z",
     "shell.execute_reply": "2023-01-19T16:09:05.325228Z"
    },
    "papermill": {
     "duration": 1.31241,
     "end_time": "2023-01-19T16:09:05.328619",
     "exception": false,
     "start_time": "2023-01-19T16:09:04.016209",
     "status": "completed"
    },
    "tags": []
   },
   "outputs": [],
   "source": [
    "# best_params = clf.best_params_\n",
    "rfc2 = RandomForestClassifier(criterion='entropy', n_estimators=200, min_samples_split=2, max_depth=12).fit(x_train, y_train)\n",
    "predict_test = rfc2.predict(test)\n",
    "# predict_proba_test = rfc2.predict_proba(test)[:,1]\n",
    "\n",
    "# scores(test_result['Transported'], predict_test, predict_proba_test)"
   ]
  },
  {
   "cell_type": "code",
   "execution_count": 19,
   "id": "4c22c758",
   "metadata": {
    "execution": {
     "iopub.execute_input": "2023-01-19T16:09:05.346619Z",
     "iopub.status.busy": "2023-01-19T16:09:05.346276Z",
     "iopub.status.idle": "2023-01-19T16:09:05.373885Z",
     "shell.execute_reply": "2023-01-19T16:09:05.372860Z"
    },
    "papermill": {
     "duration": 0.039324,
     "end_time": "2023-01-19T16:09:05.376222",
     "exception": false,
     "start_time": "2023-01-19T16:09:05.336898",
     "status": "completed"
    },
    "tags": []
   },
   "outputs": [],
   "source": [
    "a = pd.DataFrame(data={'column':rfc2.feature_names_in_,\n",
    "                   'importance':rfc2.feature_importances_})\\\n",
    ".sort_values('importance', ascending=False)\n",
    "per20 = round(len(a) * 0.8)\n",
    "a = a.iloc[:per20,]\n",
    "b = list(a.column)"
   ]
  },
  {
   "cell_type": "code",
   "execution_count": 20,
   "id": "a4d88d66",
   "metadata": {
    "execution": {
     "iopub.execute_input": "2023-01-19T16:09:05.393741Z",
     "iopub.status.busy": "2023-01-19T16:09:05.393395Z",
     "iopub.status.idle": "2023-01-19T16:09:06.729048Z",
     "shell.execute_reply": "2023-01-19T16:09:06.727796Z"
    },
    "papermill": {
     "duration": 1.346984,
     "end_time": "2023-01-19T16:09:06.731363",
     "exception": false,
     "start_time": "2023-01-19T16:09:05.384379",
     "status": "completed"
    },
    "tags": []
   },
   "outputs": [
    {
     "data": {
      "text/plain": [
       "array([[2065, 2212],\n",
       "       [   0,    0]])"
      ]
     },
     "execution_count": 20,
     "metadata": {},
     "output_type": "execute_result"
    }
   ],
   "source": [
    "rfc3 = RandomForestClassifier(criterion='entropy', n_estimators=200, min_samples_split=2, max_depth=12).fit(x_train[b], y_train)\n",
    "predict_test2 = rfc3.predict(test[b])\n",
    "confusion_matrix(test_result['Transported'], predict_test2)"
   ]
  },
  {
   "cell_type": "code",
   "execution_count": 21,
   "id": "0252311c",
   "metadata": {
    "execution": {
     "iopub.execute_input": "2023-01-19T16:09:06.750465Z",
     "iopub.status.busy": "2023-01-19T16:09:06.750099Z",
     "iopub.status.idle": "2023-01-19T16:09:06.760523Z",
     "shell.execute_reply": "2023-01-19T16:09:06.758782Z"
    },
    "papermill": {
     "duration": 0.022995,
     "end_time": "2023-01-19T16:09:06.763375",
     "exception": false,
     "start_time": "2023-01-19T16:09:06.740380",
     "status": "completed"
    },
    "tags": []
   },
   "outputs": [
    {
     "data": {
      "text/plain": [
       "array([[2041, 2236],\n",
       "       [   0,    0]])"
      ]
     },
     "execution_count": 21,
     "metadata": {},
     "output_type": "execute_result"
    }
   ],
   "source": [
    "confusion_matrix(test_result['Transported'], predict_test)"
   ]
  },
  {
   "cell_type": "code",
   "execution_count": 22,
   "id": "43d2ed1a",
   "metadata": {
    "execution": {
     "iopub.execute_input": "2023-01-19T16:09:06.783330Z",
     "iopub.status.busy": "2023-01-19T16:09:06.782935Z",
     "iopub.status.idle": "2023-01-19T16:09:06.791188Z",
     "shell.execute_reply": "2023-01-19T16:09:06.790193Z"
    },
    "papermill": {
     "duration": 0.020702,
     "end_time": "2023-01-19T16:09:06.793092",
     "exception": false,
     "start_time": "2023-01-19T16:09:06.772390",
     "status": "completed"
    },
    "tags": []
   },
   "outputs": [
    {
     "data": {
      "text/plain": [
       "array([[2041, 2236],\n",
       "       [   0,    0]])"
      ]
     },
     "execution_count": 22,
     "metadata": {},
     "output_type": "execute_result"
    }
   ],
   "source": [
    "confusion_matrix(test_result['Transported'], predict_test)"
   ]
  },
  {
   "cell_type": "code",
   "execution_count": 23,
   "id": "54d6c837",
   "metadata": {
    "execution": {
     "iopub.execute_input": "2023-01-19T16:09:06.812232Z",
     "iopub.status.busy": "2023-01-19T16:09:06.811875Z",
     "iopub.status.idle": "2023-01-19T16:09:06.820733Z",
     "shell.execute_reply": "2023-01-19T16:09:06.819777Z"
    },
    "papermill": {
     "duration": 0.020721,
     "end_time": "2023-01-19T16:09:06.822597",
     "exception": false,
     "start_time": "2023-01-19T16:09:06.801876",
     "status": "completed"
    },
    "tags": []
   },
   "outputs": [
    {
     "data": {
      "text/plain": [
       "array([[2041, 2236],\n",
       "       [   0,    0]])"
      ]
     },
     "execution_count": 23,
     "metadata": {},
     "output_type": "execute_result"
    }
   ],
   "source": [
    "confusion_matrix(test_result['Transported'], predict_test)"
   ]
  },
  {
   "cell_type": "code",
   "execution_count": 24,
   "id": "6c6ef6da",
   "metadata": {
    "execution": {
     "iopub.execute_input": "2023-01-19T16:09:06.841547Z",
     "iopub.status.busy": "2023-01-19T16:09:06.841168Z",
     "iopub.status.idle": "2023-01-19T16:09:06.851953Z",
     "shell.execute_reply": "2023-01-19T16:09:06.851025Z"
    },
    "papermill": {
     "duration": 0.022574,
     "end_time": "2023-01-19T16:09:06.853674",
     "exception": false,
     "start_time": "2023-01-19T16:09:06.831100",
     "status": "completed"
    },
    "tags": []
   },
   "outputs": [
    {
     "data": {
      "text/html": [
       "<div>\n",
       "<style scoped>\n",
       "    .dataframe tbody tr th:only-of-type {\n",
       "        vertical-align: middle;\n",
       "    }\n",
       "\n",
       "    .dataframe tbody tr th {\n",
       "        vertical-align: top;\n",
       "    }\n",
       "\n",
       "    .dataframe thead th {\n",
       "        text-align: right;\n",
       "    }\n",
       "</style>\n",
       "<table border=\"1\" class=\"dataframe\">\n",
       "  <thead>\n",
       "    <tr style=\"text-align: right;\">\n",
       "      <th></th>\n",
       "      <th>PassengerId</th>\n",
       "      <th>Transported</th>\n",
       "    </tr>\n",
       "  </thead>\n",
       "  <tbody>\n",
       "    <tr>\n",
       "      <th>0</th>\n",
       "      <td>0013_01</td>\n",
       "      <td>False</td>\n",
       "    </tr>\n",
       "    <tr>\n",
       "      <th>1</th>\n",
       "      <td>0018_01</td>\n",
       "      <td>False</td>\n",
       "    </tr>\n",
       "    <tr>\n",
       "      <th>2</th>\n",
       "      <td>0019_01</td>\n",
       "      <td>True</td>\n",
       "    </tr>\n",
       "    <tr>\n",
       "      <th>3</th>\n",
       "      <td>0021_01</td>\n",
       "      <td>True</td>\n",
       "    </tr>\n",
       "    <tr>\n",
       "      <th>4</th>\n",
       "      <td>0023_01</td>\n",
       "      <td>True</td>\n",
       "    </tr>\n",
       "  </tbody>\n",
       "</table>\n",
       "</div>"
      ],
      "text/plain": [
       "  PassengerId  Transported\n",
       "0     0013_01        False\n",
       "1     0018_01        False\n",
       "2     0019_01         True\n",
       "3     0021_01         True\n",
       "4     0023_01         True"
      ]
     },
     "execution_count": 24,
     "metadata": {},
     "output_type": "execute_result"
    }
   ],
   "source": [
    "submission = pd.DataFrame(data={'PassengerId': test_result['PassengerId'],\n",
    "                            'Transported': predict_test2})\n",
    "submission.head()"
   ]
  },
  {
   "cell_type": "code",
   "execution_count": 25,
   "id": "7239652c",
   "metadata": {
    "execution": {
     "iopub.execute_input": "2023-01-19T16:09:06.873062Z",
     "iopub.status.busy": "2023-01-19T16:09:06.872404Z",
     "iopub.status.idle": "2023-01-19T16:09:06.885276Z",
     "shell.execute_reply": "2023-01-19T16:09:06.883801Z"
    },
    "papermill": {
     "duration": 0.025336,
     "end_time": "2023-01-19T16:09:06.887734",
     "exception": false,
     "start_time": "2023-01-19T16:09:06.862398",
     "status": "completed"
    },
    "tags": []
   },
   "outputs": [],
   "source": [
    "submission.to_csv('submission.csv', index=False)"
   ]
  }
 ],
 "metadata": {
  "kernelspec": {
   "display_name": "Python 3",
   "language": "python",
   "name": "python3"
  },
  "language_info": {
   "codemirror_mode": {
    "name": "ipython",
    "version": 3
   },
   "file_extension": ".py",
   "mimetype": "text/x-python",
   "name": "python",
   "nbconvert_exporter": "python",
   "pygments_lexer": "ipython3",
   "version": "3.7.12"
  },
  "papermill": {
   "default_parameters": {},
   "duration": 14.48442,
   "end_time": "2023-01-19T16:09:07.719304",
   "environment_variables": {},
   "exception": null,
   "input_path": "__notebook__.ipynb",
   "output_path": "__notebook__.ipynb",
   "parameters": {},
   "start_time": "2023-01-19T16:08:53.234884",
   "version": "2.3.4"
  }
 },
 "nbformat": 4,
 "nbformat_minor": 5
}
